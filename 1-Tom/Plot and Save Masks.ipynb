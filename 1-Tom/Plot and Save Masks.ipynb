{
 "cells": [
  {
   "cell_type": "code",
   "execution_count": 6,
   "id": "12218056",
   "metadata": {},
   "outputs": [],
   "source": [
    "import numpy as np\n",
    "import pandas as pd\n",
    "from PIL import Image as im\n",
    "import matplotlib.pyplot as plt\n",
    "import cv2"
   ]
  },
  {
   "cell_type": "code",
   "execution_count": 7,
   "id": "fa19b3b3",
   "metadata": {},
   "outputs": [],
   "source": [
    "# DATA_PATH = r'C:\\Users\\yiju\\Desktop\\Copy\\Data\\hubmap-kidney-segmentation/'\n",
    "DATA_PATH = r'C:\\Users\\yiju\\Desktop\\Copy\\Data\\Colon_data_reprocessed/'\n",
    "# Read rle prediction table (submission.csv) as df\n",
    "index = 5\n",
    "df = pd.read_csv(rf'C:\\Users\\yiju\\Desktop\\Copy\\Scripts\\1. Tom\\final_result\\{index}\\submission_colon.csv')\n",
    "# Read ground truth rles as rles\n",
    "rles = pd.read_csv(DATA_PATH + 'test.csv')\n",
    "df_info = pd.read_csv(DATA_PATH + 'HuBMAP-20-dataset_information.csv')"
   ]
  },
  {
   "cell_type": "code",
   "execution_count": 8,
   "id": "825074ab",
   "metadata": {},
   "outputs": [],
   "source": [
    "def enc2mask(encs, shape):\n",
    "    img = np.zeros(shape[0] * shape[1], dtype=np.uint8)\n",
    "    for m, enc in enumerate(encs):\n",
    "        if isinstance(enc, np.float) and np.isnan(enc):\n",
    "            continue\n",
    "        enc_split = enc.split()\n",
    "        for i in range(len(enc_split) // 2):\n",
    "            start = int(enc_split[2 * i]) - 1\n",
    "            length = int(enc_split[2 * i + 1])\n",
    "            img[start: start + length] = 1 + m\n",
    "\n",
    "    return img.reshape(shape).T"
   ]
  },
  {
   "cell_type": "code",
   "execution_count": 9,
   "id": "9f3c0d86",
   "metadata": {},
   "outputs": [],
   "source": [
    "threshold = 0.5"
   ]
  },
  {
   "cell_type": "code",
   "execution_count": 10,
   "id": "ba154806",
   "metadata": {
    "scrolled": true
   },
   "outputs": [
    {
     "name": "stderr",
     "output_type": "stream",
     "text": [
      "C:\\Users\\yiju\\Anaconda3\\envs\\tf-gpu-37\\lib\\site-packages\\ipykernel_launcher.py:4: DeprecationWarning: `np.float` is a deprecated alias for the builtin `float`. To silence this warning, use `float` by itself. Doing this will not modify any behavior and is safe. If you specifically wanted the numpy scalar type, use `np.float64` here.\n",
      "Deprecated in NumPy 1.20; for more details and guidance: https://numpy.org/devdocs/release/1.20.0-notes.html#deprecations\n",
      "  after removing the cwd from sys.path.\n"
     ]
    },
    {
     "name": "stdout",
     "output_type": "stream",
     "text": [
      "saved  gt_CL_HandE_1234_B004_bottomleft.png\n",
      "saved  pred_5_CL_HandE_1234_B004_bottomleft.png\n",
      "saved  gt_HandE_B005_CL_b_RGB_bottomleft.png\n",
      "saved  pred_5_HandE_B005_CL_b_RGB_bottomleft.png\n"
     ]
    }
   ],
   "source": [
    "for img in rles['id'].unique():\n",
    "    shape = df_info[df_info.image_file == img][['width_pixels', 'height_pixels']].values.astype(int)[0]\n",
    "    \n",
    "    truth = rles[rles['id'] == img]['predicted']\n",
    "    mask_truth = enc2mask(truth, shape)\n",
    "    \n",
    "    gt_mask = cv2.resize((mask_truth).astype('uint8'), (shape[0], shape[1]))\n",
    "    gt_mask = ((gt_mask>threshold)*255).astype(np.uint8)\n",
    "    # fig, ax = plt.subplots(figsize=(15,15))\n",
    "    # ax.imshow(gt_mask)\n",
    "    # plt.savefig(\"gt_\"+img+\".png\")\n",
    "    cv2.imwrite(\"gt_\"+img+\".png\",gt_mask)\n",
    "    print(\"saved \", \"gt_\"+img+\".png\")\n",
    "    \n",
    "    pred = df[df['id'] == img]['predicted']\n",
    "    mask_pred = enc2mask(pred, shape) \n",
    "    \n",
    "    pred_mask = cv2.resize((mask_pred).astype('uint8'), (shape[0], shape[1]))\n",
    "    pred_mask = ((pred_mask>threshold)*255).astype(np.uint8)\n",
    "    # fig, ax = plt.subplots(figsize=(15,15))\n",
    "    # ax.imshow(pred_mask)\n",
    "    # plt.savefig(\"pred_\"+img+\".png\")\n",
    "    cv2.imwrite(f\"pred_{index}_\"+img+\".png\",pred_mask)\n",
    "    print(\"saved \", f\"pred_{index}_\"+img+\".png\")"
   ]
  },
  {
   "cell_type": "code",
   "execution_count": null,
   "id": "5a44c97b",
   "metadata": {},
   "outputs": [],
   "source": []
  }
 ],
 "metadata": {
  "kernelspec": {
   "display_name": "Python 3",
   "language": "python",
   "name": "python3"
  },
  "language_info": {
   "codemirror_mode": {
    "name": "ipython",
    "version": 3
   },
   "file_extension": ".py",
   "mimetype": "text/x-python",
   "name": "python",
   "nbconvert_exporter": "python",
   "pygments_lexer": "ipython3",
   "version": "3.7.10"
  }
 },
 "nbformat": 4,
 "nbformat_minor": 5
}
