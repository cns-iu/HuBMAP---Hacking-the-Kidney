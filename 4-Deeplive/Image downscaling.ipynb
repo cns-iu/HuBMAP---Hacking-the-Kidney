{
 "cells": [
  {
   "cell_type": "markdown",
   "metadata": {},
   "source": [
    "**About** : This notebook is used to downscale images in the train and test set, in order to speed-up training and inference\n",
    "  - Use the `FACTOR` parameter to specify the downscaling factor. We recommend generating data of downscaling 2 and 4.\n",
    "  - For training data, we save extra time by also computing downscaling rles. Use the `NAME` parameter to specify which rle to downscale.\n",
    "  - It is only require to save the downscaled images once, use the `SAVE_IMG` parameters to this extent."
   ]
  },
  {
   "cell_type": "code",
   "execution_count": 1,
   "metadata": {},
   "outputs": [],
   "source": [
    "%load_ext autoreload\n",
    "%autoreload 2"
   ]
  },
  {
   "cell_type": "markdown",
   "metadata": {},
   "source": [
    "### Imports"
   ]
  },
  {
   "cell_type": "code",
   "execution_count": 77,
   "metadata": {},
   "outputs": [],
   "source": [
    "import os\n",
    "import gc\n",
    "import cv2\n",
    "import sys\n",
    "import tifffile\n",
    "import numpy as np\n",
    "import pandas as pd\n",
    "\n",
    "from tqdm.notebook import tqdm\n",
    "from collections import Counter\n",
    "from matplotlib import pyplot as plt\n",
    "\n",
    "sys.path.append(\"../code/\")"
   ]
  },
  {
   "cell_type": "code",
   "execution_count": 78,
   "metadata": {},
   "outputs": [],
   "source": [
    "from data.dataset import load_image\n",
    "from utils.rle import *\n",
    "from params import *"
   ]
  },
  {
   "cell_type": "code",
   "execution_count": 79,
   "metadata": {},
   "outputs": [],
   "source": [
    "FACTOR = 2"
   ]
  },
  {
   "cell_type": "markdown",
   "metadata": {},
   "source": [
    "### Train"
   ]
  },
  {
   "cell_type": "code",
   "execution_count": 80,
   "metadata": {},
   "outputs": [],
   "source": [
    "out_dir = DATA_PATH + f\"train_{FACTOR}/\"\n",
    "if not os.path.exists(out_dir):\n",
    "    os.mkdir(out_dir)"
   ]
  },
  {
   "cell_type": "code",
   "execution_count": 111,
   "metadata": {},
   "outputs": [],
   "source": [
    "NAME = \"_onlyfc\"  # unhealthy class\n",
    "# NAME = \"_fix\"  # healthy class with fixed issues\n",
    "# NAME = \"\"  # original data\n",
    "SAVE_IMG = True\n",
    "\n",
    "df_masks = pd.read_csv(DATA_PATH + \"train\" + NAME + \".csv\").set_index(\"id\")"
   ]
  },
  {
   "cell_type": "code",
   "execution_count": 112,
   "metadata": {},
   "outputs": [
    {
     "data": {
      "application/vnd.jupyter.widget-view+json": {
       "model_id": "c17b780ef7154772b74b6851933219dd",
       "version_major": 2,
       "version_minor": 0
      },
      "text/plain": [
       "  0%|          | 0/5 [00:00<?, ?it/s]"
      ]
     },
     "metadata": {},
     "output_type": "display_data"
    }
   ],
   "source": [
    "masks = {}\n",
    "\n",
    "for index, encs in tqdm(df_masks.iterrows(), total=len(df_masks)):\n",
    "    # read image and generate the mask\n",
    "    if index == \"HandE_B005_CL_b_RGB_topright\":\n",
    "        continue\n",
    "    img = load_image(os.path.join(TIFF_PATH, index + \".tiff\"))\n",
    "    mask = enc2mask(encs, (img.shape[1], img.shape[0]))\n",
    "\n",
    "    if SAVE_IMG:\n",
    "        img = cv2.resize(\n",
    "            img,\n",
    "            (img.shape[1] // FACTOR, img.shape[0] // FACTOR),\n",
    "            interpolation=cv2.INTER_AREA,\n",
    "        )\n",
    "        tifffile.imsave(out_dir + f\"{index}.tiff\", img)\n",
    "\n",
    "    mask = cv2.resize(\n",
    "        mask,\n",
    "        (mask.shape[1] // FACTOR, mask.shape[0] // FACTOR),\n",
    "        interpolation=cv2.INTER_NEAREST,\n",
    "    )\n",
    "    \n",
    "    rle = mask2enc(mask)\n",
    "    \n",
    "    masks[index] = rle\n",
    "    \n",
    "#     break"
   ]
  },
  {
   "cell_type": "code",
   "execution_count": 113,
   "metadata": {},
   "outputs": [
    {
     "name": "stdout",
     "output_type": "stream",
     "text": [
      "Saved data to ../input/train_2_onlyfc.csv\n"
     ]
    }
   ],
   "source": [
    "df_masks = pd.DataFrame.from_dict(masks).T.reset_index().rename(columns={0: \"encoding\", \"index\": \"id\"})\n",
    "\n",
    "df_masks.to_csv(f\"{DATA_PATH}train_{FACTOR}{NAME}.csv\", index=False)\n",
    "\n",
    "print(f\"Saved data to {DATA_PATH}train_{FACTOR}{NAME}.csv\")"
   ]
  },
  {
   "cell_type": "code",
   "execution_count": 114,
   "metadata": {},
   "outputs": [],
   "source": [
    "df_colon_masks = pd.read_csv(DATA_PATH + \"/train\" + NAME + \".csv\")"
   ]
  },
  {
   "cell_type": "code",
   "execution_count": 115,
   "metadata": {},
   "outputs": [],
   "source": [
    "df_colon_masks = df_colon_masks[df_colon_masks.id != 'HandE_B005_CL_b_RGB_topright']"
   ]
  },
  {
   "cell_type": "code",
   "execution_count": 116,
   "metadata": {},
   "outputs": [],
   "source": [
    "df_colon_masks.index = df_colon_masks.id"
   ]
  },
  {
   "cell_type": "code",
   "execution_count": 117,
   "metadata": {},
   "outputs": [
    {
     "data": {
      "application/vnd.jupyter.widget-view+json": {
       "model_id": "029c1ba28d734aecb799661f561e62b2",
       "version_major": 2,
       "version_minor": 0
      },
      "text/plain": [
       "  0%|          | 0/5 [00:00<?, ?it/s]"
      ]
     },
     "metadata": {},
     "output_type": "display_data"
    },
    {
     "name": "stdout",
     "output_type": "stream",
     "text": [
      "CL_HandE_1234_B004_bottomright\n",
      "CL_HandE_1234_B004_topleft\n",
      "CL_HandE_1234_B004_topright\n",
      "HandE_B005_CL_b_RGB_bottomright\n",
      "HandE_B005_CL_b_RGB_topleft\n"
     ]
    }
   ],
   "source": [
    "masks = {}\n",
    "\n",
    "for index, encs in tqdm(df_colon_masks.iterrows(), total=len(df_colon_masks)):\n",
    "    # read image and generate the mask\n",
    "    print (index)\n",
    "    img = load_image(os.path.join(DATA_PATH, \"Colon/train/\" + str(index) + \".tiff\"))\n",
    "    mask = enc2mask(encs, (img.shape[1], img.shape[0]))\n",
    "\n",
    "    if SAVE_IMG:\n",
    "        img = cv2.resize(\n",
    "            img,\n",
    "            (img.shape[1] // FACTOR, img.shape[0] // FACTOR),\n",
    "            interpolation=cv2.INTER_AREA,\n",
    "        )\n",
    "        tifffile.imsave(out_dir + f\"{index}.tiff\", img)\n",
    "\n",
    "    mask = cv2.resize(\n",
    "        mask,\n",
    "        (mask.shape[1] // FACTOR, mask.shape[0] // FACTOR),\n",
    "        interpolation=cv2.INTER_NEAREST,\n",
    "    )\n",
    "    \n",
    "    rle = mask2enc(mask)\n",
    "    \n",
    "    masks[index] = rle\n",
    "    \n",
    "#     break"
   ]
  },
  {
   "cell_type": "code",
   "execution_count": 118,
   "metadata": {},
   "outputs": [
    {
     "name": "stdout",
     "output_type": "stream",
     "text": [
      "Saved data to ../input/train_colon2_onlyfc.csv\n"
     ]
    }
   ],
   "source": [
    "df_colon_masks = pd.DataFrame.from_dict(masks).T.reset_index().rename(columns={0: \"encoding\", \"index\": \"id\"})\n",
    "\n",
    "df_colon_masks.to_csv(f\"{DATA_PATH}train_colon{FACTOR}{NAME}.csv\", index=False)\n",
    "\n",
    "print(f\"Saved data to {DATA_PATH}train_colon{FACTOR}{NAME}.csv\")"
   ]
  },
  {
   "cell_type": "markdown",
   "metadata": {},
   "source": [
    "### Test"
   ]
  },
  {
   "cell_type": "code",
   "execution_count": 119,
   "metadata": {},
   "outputs": [
    {
     "data": {
      "text/html": [
       "<div>\n",
       "<style scoped>\n",
       "    .dataframe tbody tr th:only-of-type {\n",
       "        vertical-align: middle;\n",
       "    }\n",
       "\n",
       "    .dataframe tbody tr th {\n",
       "        vertical-align: top;\n",
       "    }\n",
       "\n",
       "    .dataframe thead th {\n",
       "        text-align: right;\n",
       "    }\n",
       "</style>\n",
       "<table border=\"1\" class=\"dataframe\">\n",
       "  <thead>\n",
       "    <tr style=\"text-align: right;\">\n",
       "      <th></th>\n",
       "      <th>id</th>\n",
       "      <th>predicted</th>\n",
       "    </tr>\n",
       "  </thead>\n",
       "  <tbody>\n",
       "    <tr>\n",
       "      <th>0</th>\n",
       "      <td>CL_HandE_1234_B004_bottomleft</td>\n",
       "      <td>NaN</td>\n",
       "    </tr>\n",
       "    <tr>\n",
       "      <th>1</th>\n",
       "      <td>HandE_B005_CL_b_RGB_bottomleft</td>\n",
       "      <td>NaN</td>\n",
       "    </tr>\n",
       "  </tbody>\n",
       "</table>\n",
       "</div>"
      ],
      "text/plain": [
       "                               id  predicted\n",
       "0   CL_HandE_1234_B004_bottomleft        NaN\n",
       "1  HandE_B005_CL_b_RGB_bottomleft        NaN"
      ]
     },
     "execution_count": 119,
     "metadata": {},
     "output_type": "execute_result"
    }
   ],
   "source": [
    "df"
   ]
  },
  {
   "cell_type": "code",
   "execution_count": 120,
   "metadata": {},
   "outputs": [],
   "source": [
    "out_dir = DATA_PATH + f\"test_{FACTOR}/\"\n",
    "\n",
    "if not os.path.exists(out_dir):\n",
    "    os.mkdir(out_dir)"
   ]
  },
  {
   "cell_type": "code",
   "execution_count": 121,
   "metadata": {},
   "outputs": [],
   "source": [
    "df = pd.read_csv(DATA_PATH + \"sample_submission.csv\")"
   ]
  },
  {
   "cell_type": "code",
   "execution_count": 122,
   "metadata": {},
   "outputs": [
    {
     "data": {
      "application/vnd.jupyter.widget-view+json": {
       "model_id": "22a9bbdd96bd491da5ce304ca7002dde",
       "version_major": 2,
       "version_minor": 0
      },
      "text/plain": [
       "  0%|          | 0/2 [00:00<?, ?it/s]"
      ]
     },
     "metadata": {},
     "output_type": "display_data"
    },
    {
     "name": "stdout",
     "output_type": "stream",
     "text": [
      "CL_HandE_1234_B004_bottomleft\n",
      "HandE_B005_CL_b_RGB_bottomleft\n"
     ]
    }
   ],
   "source": [
    "for index in tqdm(df['id']):\n",
    "    print (index)\n",
    "    # read image and generate the mask\n",
    "    img = load_image(os.path.join(TIFF_PATH_TEST, index + \".tiff\"))\n",
    "\n",
    "    img = cv2.resize(\n",
    "        img,\n",
    "        (img.shape[1] // FACTOR, img.shape[0] // FACTOR),\n",
    "        interpolation=cv2.INTER_AREA,\n",
    "    )\n",
    "    \n",
    "    tifffile.imsave(out_dir + f\"{index}.tiff\", img)"
   ]
  },
  {
   "cell_type": "code",
   "execution_count": 123,
   "metadata": {},
   "outputs": [
    {
     "data": {
      "text/plain": [
       "['VAN0003-LK-32-21-PAS_registered.ome', 'VAN0011-RK-3-10-PAS_registered.ome']"
      ]
     },
     "execution_count": 123,
     "metadata": {},
     "output_type": "execute_result"
    }
   ],
   "source": [
    "EXTRA_IMGS"
   ]
  },
  {
   "cell_type": "code",
   "execution_count": null,
   "metadata": {},
   "outputs": [],
   "source": [
    "for index in tqdm(EXTRA_IMGS):\n",
    "    print (index)\n",
    "    # read image and generate the mask\n",
    "    img = load_image(os.path.join(TIFF_PATH_TEST, index + \".tiff\"))\n",
    "\n",
    "    img = cv2.resize(\n",
    "        img,\n",
    "        (img.shape[1] // FACTOR, img.shape[0] // FACTOR),\n",
    "        interpolation=cv2.INTER_AREA,\n",
    "    )\n",
    "    \n",
    "    tifffile.imsave(out_dir + f\"{index}.tiff\", img)"
   ]
  }
 ],
 "metadata": {
  "kernelspec": {
   "display_name": "Python 3",
   "language": "python",
   "name": "python3"
  },
  "language_info": {
   "codemirror_mode": {
    "name": "ipython",
    "version": 3
   },
   "file_extension": ".py",
   "mimetype": "text/x-python",
   "name": "python",
   "nbconvert_exporter": "python",
   "pygments_lexer": "ipython3",
   "version": "3.8.11"
  }
 },
 "nbformat": 4,
 "nbformat_minor": 4
}
