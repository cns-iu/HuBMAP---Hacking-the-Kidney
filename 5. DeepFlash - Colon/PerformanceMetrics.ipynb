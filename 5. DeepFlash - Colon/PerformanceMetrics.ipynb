{
 "cells": [
  {
   "cell_type": "markdown",
   "id": "electric-diesel",
   "metadata": {},
   "source": [
    "# HubMap- Hacking the Kidney\n",
    "#### Goal - Mapping the human body at functional tissue unit level - detect glomeruli FTUs in kidney\n",
    "\n",
    "#### Calculating the performance metrics for Whats Goin On team's model\n",
    "\n",
    "##### Step 1 - Import useful libraries"
   ]
  },
  {
   "cell_type": "code",
   "execution_count": 12,
   "id": "distant-large",
   "metadata": {},
   "outputs": [],
   "source": [
    "import numpy as np\n",
    "import pandas as pd\n",
    "from sklearn.metrics import jaccard_score\n",
    "from scipy.spatial.distance import directed_hausdorff"
   ]
  },
  {
   "cell_type": "code",
   "execution_count": 13,
   "id": "loved-thompson",
   "metadata": {},
   "outputs": [],
   "source": [
    "DATA_PATH = r'C:/Users/soodn/Downloads/Naveksha/Kaggle HuBMAP/'\n",
    "df = pd.read_csv('submission-df2-kaggle.csv')\n",
    "rles = pd.read_csv(DATA_PATH + 'Data/hubmap-kidney-segmentation-data/test.csv')\n",
    "df_info = pd.read_csv(DATA_PATH + 'Data/hubmap-kidney-segmentation-data/HuBMAP-20-dataset_information.csv')"
   ]
  },
  {
   "cell_type": "code",
   "execution_count": 14,
   "id": "personalized-municipality",
   "metadata": {},
   "outputs": [],
   "source": [
    "path_test = r'C:/Users/soodn/Downloads/Naveksha/Kaggle HuBMAP/Data/hubmap-kidney-segmentation-data/test/'"
   ]
  },
  {
   "cell_type": "markdown",
   "id": "developed-sheriff",
   "metadata": {},
   "source": [
    "##### Step 2 - Write utility functions"
   ]
  },
  {
   "cell_type": "code",
   "execution_count": 15,
   "id": "dated-growing",
   "metadata": {},
   "outputs": [],
   "source": [
    "def dice_scores_img(pred, truth, eps=1e-8):\n",
    "    pred = pred.reshape(-1) > 0\n",
    "    truth = truth.reshape(-1) > 0\n",
    "    intersect = (pred & truth).sum(-1)\n",
    "    union = pred.sum(-1) + truth.sum(-1)\n",
    "\n",
    "    dice = (2.0 * intersect + eps) / (union + eps)\n",
    "    return dice"
   ]
  },
  {
   "cell_type": "code",
   "execution_count": 16,
   "id": "military-stable",
   "metadata": {},
   "outputs": [],
   "source": [
    "def perf_metrics(gt, pred):\n",
    "    n = 0\n",
    "    d = 0\n",
    "    for i in range(gt.shape[0]):\n",
    "        for j in range (gt.shape[1]):\n",
    "            if (gt[i][j]==pred[i][j]):\n",
    "                n = n+1\n",
    "            d = d+1\n",
    "    \n",
    "    return n/d, jaccard_score(gt.flatten(order='C'), pred.flatten(order='C')), directed_hausdorff(gt, pred)"
   ]
  },
  {
   "cell_type": "code",
   "execution_count": 17,
   "id": "ordered-skirt",
   "metadata": {},
   "outputs": [],
   "source": [
    "def read_mask(mask_file, mask_shape):\n",
    "    read_file = open(mask_file, \"r\", encoding='utf-8') \n",
    "    mask_data = json.load(read_file)\n",
    "    polys = []\n",
    "    for index in range(mask_data.__len__()):\n",
    "        geom = np.array(mask_data[index]['geometry']['coordinates'], dtype=np.int32)\n",
    "        polys.append(geom)\n",
    "\n",
    "    mask = np.zeros(mask_shape)\n",
    "    # print (type(polys), type(polys[0]), type(polys[0][0][0][0]))\n",
    "    cv2.fillPoly(mask, polys, 1)\n",
    "    mask = mask.astype(bool)\n",
    "    return mask"
   ]
  },
  {
   "cell_type": "code",
   "execution_count": 18,
   "id": "alive-japan",
   "metadata": {},
   "outputs": [],
   "source": [
    "def rle_encode_less_memory(img):\n",
    "    pixels = img.T.flatten()\n",
    "    pixels[0] = 0\n",
    "    pixels[-1] = 0\n",
    "    runs = np.where(pixels[1:] != pixels[:-1])[0] + 2\n",
    "    runs[1::2] -= runs[::2]\n",
    "    return ' '.join(str(x) for x in runs)\n",
    "\n",
    "def rle_decode(mask_rle, shape):\n",
    "    '''\n",
    "    mask_rle: run-length as string formated (start length)\n",
    "    shape: (height,width) of array to return \n",
    "    Returns numpy array, 1 - mask, 0 - background\n",
    "    '''\n",
    "    mask_rle = str(mask_rle)\n",
    "    s = mask_rle.split()\n",
    "    starts, lengths = [np.asarray(x, dtype=int) for x in (s[0:][::2], s[1:][::2])]\n",
    "    starts -= 1\n",
    "    ends = starts + lengths\n",
    "    img = np.zeros(shape[0] * shape[1], dtype=np.uint8)\n",
    "\n",
    "    for lo, hi in zip(starts, ends):\n",
    "        img[lo:hi] = 1\n",
    "    return img.reshape(shape)\n",
    "\n",
    "def enc2mask(encs, shape):\n",
    "    img = np.zeros(shape[0] * shape[1], dtype=np.uint8)\n",
    "    for m, enc in enumerate(encs):\n",
    "        if isinstance(enc, np.float) and np.isnan(enc):\n",
    "            continue\n",
    "        enc_split = enc.split()\n",
    "        for i in range(len(enc_split) // 2):\n",
    "            start = int(enc_split[2 * i]) - 1\n",
    "            length = int(enc_split[2 * i + 1])\n",
    "            img[start: start + length] = 1 + m\n",
    "\n",
    "    return img.reshape(shape).T"
   ]
  },
  {
   "cell_type": "code",
   "execution_count": 19,
   "id": "buried-navigator",
   "metadata": {},
   "outputs": [],
   "source": [
    "def rleToMask(rleString,height,width):\n",
    "    rows,cols = height,width\n",
    "    # print (type(rleString))\n",
    "    rleNumbers = [int(numstring) for numstring in rleString.split(' ')]\n",
    "    rle_pairs = np.array(rleNumbers).reshape(-1,2)\n",
    "    img = np.zeros(rows*cols,dtype=np.uint8)\n",
    "    for index,length in rle_pairs:\n",
    "        index -= 1\n",
    "        img[index:index+length] = 255\n",
    "    img = img.reshape(cols,rows)\n",
    "    img = img.T\n",
    "    return img"
   ]
  },
  {
   "cell_type": "code",
   "execution_count": 20,
   "id": "remarkable-electronics",
   "metadata": {},
   "outputs": [
    {
     "data": {
      "text/plain": [
       "0    60954223 34 60978180 69 61002168 74 61026156 7...\n",
       "1    68629509 19 68658940 53 68688371 72 68717803 7...\n",
       "2    534577255 4 534577263 5 534623911 19 534670566...\n",
       "3    52826001 14 52856696 41 52887402 59 52918120 6...\n",
       "4    329085519 25 329118756 31 329151993 37 3291852...\n",
       "Name: encoding, dtype: object"
      ]
     },
     "execution_count": 20,
     "metadata": {},
     "output_type": "execute_result"
    }
   ],
   "source": [
    "rles['encoding']"
   ]
  },
  {
   "cell_type": "markdown",
   "id": "arabic-nowhere",
   "metadata": {},
   "source": [
    "##### Step 3 - Calculate mean metrics values for test images "
   ]
  },
  {
   "cell_type": "code",
   "execution_count": 22,
   "id": "mechanical-display",
   "metadata": {},
   "outputs": [],
   "source": [
    "import json\n",
    "import cv2\n",
    "import matplotlib.pyplot as plt\n",
    "from PIL import Image\n",
    "sum_score = 0\n",
    "sum_pa = 0\n",
    "sum_ji = 0\n",
    "sum_haus = 0\n",
    "\n",
    "for img in rles['id'].unique():\n",
    "    shape = df_info[df_info.image_file == img + \".tiff\"][['width_pixels', 'height_pixels']].values.astype(int)[0]\n",
    "    truth = rles[rles['id'] == img]['encoding']\n",
    "    mask_truth = enc2mask(truth, shape)\n",
    "    pred = df[df['id'] == img]['predicted']\n",
    "    mask_pred = enc2mask(pred, shape)  \n",
    "    score = dice_scores_img(mask_pred, mask_truth)\n",
    "    pa, ji, haus = perf_metrics(mask_pred, mask_truth)    \n",
    "    sum_score += score\n",
    "    sum_pa += pa\n",
    "    sum_ji += ji\n",
    "    sum_haus += haus[0]"
   ]
  },
  {
   "cell_type": "code",
   "execution_count": 23,
   "id": "material-summit",
   "metadata": {},
   "outputs": [
    {
     "name": "stdout",
     "output_type": "stream",
     "text": [
      "0.9241811851426063 0.9977798452893877 0.8624717292309658 22.885790656898614\n"
     ]
    }
   ],
   "source": [
    "print (sum_score/5, sum_pa/5, sum_ji/5, sum_haus/5)"
   ]
  },
  {
   "cell_type": "code",
   "execution_count": null,
   "id": "meaningful-crawford",
   "metadata": {},
   "outputs": [],
   "source": []
  }
 ],
 "metadata": {
  "kernelspec": {
   "display_name": "Python 3",
   "language": "python",
   "name": "python3"
  },
  "language_info": {
   "codemirror_mode": {
    "name": "ipython",
    "version": 3
   },
   "file_extension": ".py",
   "mimetype": "text/x-python",
   "name": "python",
   "nbconvert_exporter": "python",
   "pygments_lexer": "ipython3",
   "version": "3.8.8"
  }
 },
 "nbformat": 4,
 "nbformat_minor": 5
}
