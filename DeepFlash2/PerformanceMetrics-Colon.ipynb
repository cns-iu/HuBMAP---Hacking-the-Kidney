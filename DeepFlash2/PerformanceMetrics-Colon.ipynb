{
 "cells": [
  {
   "cell_type": "markdown",
   "id": "electric-diesel",
   "metadata": {},
   "source": [
    "# HubMap- Hacking the Kidney\n",
    "#### Goal - Mapping the human body at functional tissue unit level - detect glomeruli FTUs in kidney\n",
    "\n",
    "#### Calculating the performance metrics for Whats Goin On team's model\n",
    "\n",
    "##### Step 1 - Import useful libraries"
   ]
  },
  {
   "cell_type": "code",
   "execution_count": 1,
   "id": "distant-large",
   "metadata": {},
   "outputs": [],
   "source": [
    "import numpy as np\n",
    "import pandas as pd\n",
    "from sklearn.metrics import jaccard_score\n",
    "from scipy.spatial.distance import directed_hausdorff"
   ]
  },
  {
   "cell_type": "code",
   "execution_count": 15,
   "id": "loved-thompson",
   "metadata": {},
   "outputs": [],
   "source": [
    "DATA_PATH = r'C:\\Users\\soodn\\Downloads\\Naveksha\\Kaggle HuBMAP\\Data\\hubmap_colon_data'\n",
    "df = pd.read_csv('submission_colon_generalized.csv')\n",
    "rles = pd.read_csv(DATA_PATH + '/colon.csv')\n",
    "df_info = pd.read_csv(DATA_PATH + '/Colon_data_reprocessed/Colon_data_reprocessed/HuBMAP-20-dataset_information.csv')"
   ]
  },
  {
   "cell_type": "code",
   "execution_count": 16,
   "id": "personalized-municipality",
   "metadata": {},
   "outputs": [],
   "source": [
    "path_test = r'C:/Users/soodn/Downloads/Naveksha/Kaggle HuBMAP/Data/hubmap-kidney-segmentation-data/test/'"
   ]
  },
  {
   "cell_type": "markdown",
   "id": "developed-sheriff",
   "metadata": {},
   "source": [
    "##### Step 2 - Write utility functions"
   ]
  },
  {
   "cell_type": "code",
   "execution_count": 17,
   "id": "dated-growing",
   "metadata": {},
   "outputs": [],
   "source": [
    "def dice_scores_img(pred, truth, eps=1e-8):\n",
    "    pred = pred.reshape(-1) > 0\n",
    "    truth = truth.reshape(-1) > 0\n",
    "    intersect = (pred & truth).sum(-1)\n",
    "    union = pred.sum(-1) + truth.sum(-1)\n",
    "\n",
    "    dice = (2.0 * intersect + eps) / (union + eps)\n",
    "    return dice"
   ]
  },
  {
   "cell_type": "code",
   "execution_count": 18,
   "id": "military-stable",
   "metadata": {},
   "outputs": [],
   "source": [
    "def perf_metrics(gt, pred):\n",
    "    n = 0\n",
    "    d = 0\n",
    "    for i in range(gt.shape[0]):\n",
    "        for j in range (gt.shape[1]):\n",
    "            if (gt[i][j]==pred[i][j]):\n",
    "                n = n+1\n",
    "            d = d+1\n",
    "    \n",
    "    return n/d, jaccard_score(gt.flatten(order='C'), pred.flatten(order='C')), directed_hausdorff(gt, pred)"
   ]
  },
  {
   "cell_type": "code",
   "execution_count": 19,
   "id": "ordered-skirt",
   "metadata": {},
   "outputs": [],
   "source": [
    "def read_mask(mask_file, mask_shape):\n",
    "    read_file = open(mask_file, \"r\", encoding='utf-8') \n",
    "    mask_data = json.load(read_file)\n",
    "    polys = []\n",
    "    for index in range(mask_data.__len__()):\n",
    "        geom = np.array(mask_data[index]['geometry']['coordinates'], dtype=np.int32)\n",
    "        polys.append(geom)\n",
    "\n",
    "    mask = np.zeros(mask_shape)\n",
    "    # print (type(polys), type(polys[0]), type(polys[0][0][0][0]))\n",
    "    cv2.fillPoly(mask, polys, 1)\n",
    "    mask = mask.astype(bool)\n",
    "    return mask"
   ]
  },
  {
   "cell_type": "code",
   "execution_count": 20,
   "id": "alive-japan",
   "metadata": {},
   "outputs": [],
   "source": [
    "def rle_encode_less_memory(img):\n",
    "    pixels = img.T.flatten()\n",
    "    pixels[0] = 0\n",
    "    pixels[-1] = 0\n",
    "    runs = np.where(pixels[1:] != pixels[:-1])[0] + 2\n",
    "    runs[1::2] -= runs[::2]\n",
    "    return ' '.join(str(x) for x in runs)\n",
    "\n",
    "def rle_decode(mask_rle, shape):\n",
    "    '''\n",
    "    mask_rle: run-length as string formated (start length)\n",
    "    shape: (height,width) of array to return \n",
    "    Returns numpy array, 1 - mask, 0 - background\n",
    "    '''\n",
    "    mask_rle = str(mask_rle)\n",
    "    s = mask_rle.split()\n",
    "    starts, lengths = [np.asarray(x, dtype=int) for x in (s[0:][::2], s[1:][::2])]\n",
    "    starts -= 1\n",
    "    ends = starts + lengths\n",
    "    img = np.zeros(shape[0] * shape[1], dtype=np.uint8)\n",
    "\n",
    "    for lo, hi in zip(starts, ends):\n",
    "        img[lo:hi] = 1\n",
    "    return img.reshape(shape)\n",
    "\n",
    "def enc2mask(encs, shape):\n",
    "    img = np.zeros(shape[0] * shape[1], dtype=np.uint8)\n",
    "    for m, enc in enumerate(encs):\n",
    "        if isinstance(enc, np.float) and np.isnan(enc):\n",
    "            continue\n",
    "        enc_split = enc.split()\n",
    "        for i in range(len(enc_split) // 2):\n",
    "            start = int(enc_split[2 * i]) - 1\n",
    "            length = int(enc_split[2 * i + 1])\n",
    "            img[start: start + length] = 1 + m\n",
    "\n",
    "    return img.reshape(shape).T"
   ]
  },
  {
   "cell_type": "code",
   "execution_count": 21,
   "id": "buried-navigator",
   "metadata": {},
   "outputs": [],
   "source": [
    "def rleToMask(rleString,height,width):\n",
    "    rows,cols = height,width\n",
    "    # print (type(rleString))\n",
    "    rleNumbers = [int(numstring) for numstring in rleString.split(' ')]\n",
    "    rle_pairs = np.array(rleNumbers).reshape(-1,2)\n",
    "    img = np.zeros(rows*cols,dtype=np.uint8)\n",
    "    for index,length in rle_pairs:\n",
    "        index -= 1\n",
    "        img[index:index+length] = 255\n",
    "    img = img.reshape(cols,rows)\n",
    "    img = img.T\n",
    "    return img"
   ]
  },
  {
   "cell_type": "code",
   "execution_count": 45,
   "id": "remarkable-electronics",
   "metadata": {},
   "outputs": [
    {
     "data": {
      "text/html": [
       "<div>\n",
       "<style scoped>\n",
       "    .dataframe tbody tr th:only-of-type {\n",
       "        vertical-align: middle;\n",
       "    }\n",
       "\n",
       "    .dataframe tbody tr th {\n",
       "        vertical-align: top;\n",
       "    }\n",
       "\n",
       "    .dataframe thead th {\n",
       "        text-align: right;\n",
       "    }\n",
       "</style>\n",
       "<table border=\"1\" class=\"dataframe\">\n",
       "  <thead>\n",
       "    <tr style=\"text-align: right;\">\n",
       "      <th></th>\n",
       "      <th>id</th>\n",
       "      <th>predicted</th>\n",
       "    </tr>\n",
       "  </thead>\n",
       "  <tbody>\n",
       "    <tr>\n",
       "      <th>0</th>\n",
       "      <td>CL_HandE_1234_B004.jpg_bottom_left</td>\n",
       "      <td>NaN</td>\n",
       "    </tr>\n",
       "    <tr>\n",
       "      <th>1</th>\n",
       "      <td>CL_HandE_1234_B004.jpg_bottom_right</td>\n",
       "      <td>NaN</td>\n",
       "    </tr>\n",
       "    <tr>\n",
       "      <th>2</th>\n",
       "      <td>CL_HandE_1234_B004.jpg_top_left</td>\n",
       "      <td>NaN</td>\n",
       "    </tr>\n",
       "    <tr>\n",
       "      <th>3</th>\n",
       "      <td>CL_HandE_1234_B004.jpg_top_right</td>\n",
       "      <td>NaN</td>\n",
       "    </tr>\n",
       "    <tr>\n",
       "      <th>4</th>\n",
       "      <td>HandE_B005_CL_b_RGB.jpg_bottom_left</td>\n",
       "      <td>NaN</td>\n",
       "    </tr>\n",
       "    <tr>\n",
       "      <th>5</th>\n",
       "      <td>HandE_B005_CL_b_RGB.jpg_bottom_right</td>\n",
       "      <td>NaN</td>\n",
       "    </tr>\n",
       "    <tr>\n",
       "      <th>6</th>\n",
       "      <td>HandE_B005_CL_b_RGB.jpg_top_left</td>\n",
       "      <td>NaN</td>\n",
       "    </tr>\n",
       "    <tr>\n",
       "      <th>7</th>\n",
       "      <td>HandE_B005_CL_b_RGB.jpg_top_right</td>\n",
       "      <td>NaN</td>\n",
       "    </tr>\n",
       "  </tbody>\n",
       "</table>\n",
       "</div>"
      ],
      "text/plain": [
       "                                     id  predicted\n",
       "0    CL_HandE_1234_B004.jpg_bottom_left        NaN\n",
       "1   CL_HandE_1234_B004.jpg_bottom_right        NaN\n",
       "2       CL_HandE_1234_B004.jpg_top_left        NaN\n",
       "3      CL_HandE_1234_B004.jpg_top_right        NaN\n",
       "4   HandE_B005_CL_b_RGB.jpg_bottom_left        NaN\n",
       "5  HandE_B005_CL_b_RGB.jpg_bottom_right        NaN\n",
       "6      HandE_B005_CL_b_RGB.jpg_top_left        NaN\n",
       "7     HandE_B005_CL_b_RGB.jpg_top_right        NaN"
      ]
     },
     "execution_count": 45,
     "metadata": {},
     "output_type": "execute_result"
    }
   ],
   "source": [
    "df"
   ]
  },
  {
   "cell_type": "markdown",
   "id": "arabic-nowhere",
   "metadata": {},
   "source": [
    "##### Step 3 - Calculate mean metrics values for test images "
   ]
  },
  {
   "cell_type": "code",
   "execution_count": 46,
   "id": "mechanical-display",
   "metadata": {},
   "outputs": [
    {
     "name": "stdout",
     "output_type": "stream",
     "text": [
      "5.5555802470232896e-15\n",
      "0.9156412344479238\n",
      "1.0225356634875928e-14\n",
      "0.9541666947863802\n",
      "3.977522226394186e-15\n",
      "0.8821724015885014\n",
      "6.480419412744351e-15\n",
      "0.927680314850808\n",
      "1.2078228268851554e-14\n",
      "0.9611977948145749\n",
      "1.0\n"
     ]
    },
    {
     "name": "stderr",
     "output_type": "stream",
     "text": [
      "C:\\Users\\soodn\\Anaconda3\\envs\\tf-gpu\\lib\\site-packages\\sklearn\\metrics\\_classification.py:1245: UndefinedMetricWarning: Jaccard is ill-defined and being set to 0.0 due to no true or predicted samples. Use `zero_division` parameter to control this behavior.\n",
      "  _warn_prf(average, modifier, msg_start, len(result))\n"
     ]
    },
    {
     "name": "stdout",
     "output_type": "stream",
     "text": [
      "1.0\n",
      "1.8440998026812873e-14\n",
      "0.9745858716061381\n",
      "1.589249048039795e-14\n",
      "0.9705104815294725\n"
     ]
    }
   ],
   "source": [
    "import json\n",
    "import cv2\n",
    "import matplotlib.pyplot as plt\n",
    "from PIL import Image\n",
    "sum_score = 0\n",
    "sum_pa = 0\n",
    "sum_ji = 0\n",
    "sum_haus = 0\n",
    "\n",
    "for img_ in rles['id'].unique():\n",
    "    img_list = img_.split('.')\n",
    "    jpg = img_list[1]\n",
    "    img_new = jpg.split('_')\n",
    "    img = img_list[0]+'_'+img_new[1]+img_new[2] \n",
    "    shape = df_info[df_info.image_file == img][['width_pixels', 'height_pixels']].values.astype(int)[0]\n",
    "    truth = rles[rles['id'] == img_]['encodings']\n",
    "    mask_truth = enc2mask(truth, shape)\n",
    "    pred = df[df['id'] == img_]['predicted']\n",
    "    mask_pred = enc2mask(pred, shape)  \n",
    "    score = dice_scores_img(mask_pred, mask_truth)\n",
    "    print (score)\n",
    "    pa, ji, haus = perf_metrics(mask_pred, mask_truth)\n",
    "    print (pa)\n",
    "    sum_score += score\n",
    "    sum_pa += pa\n",
    "    sum_ji += ji\n",
    "    sum_haus += haus[0]"
   ]
  },
  {
   "cell_type": "code",
   "execution_count": 47,
   "id": "material-summit",
   "metadata": {},
   "outputs": [
    {
     "name": "stdout",
     "output_type": "stream",
     "text": [
      "0.1250000000000091 0.9482443492029747 0.0 0.0\n"
     ]
    }
   ],
   "source": [
    "l = len(df)\n",
    "print (sum_score/l, sum_pa/l, sum_ji/l, sum_haus/l)"
   ]
  },
  {
   "cell_type": "code",
   "execution_count": 48,
   "id": "meaningful-crawford",
   "metadata": {},
   "outputs": [
    {
     "data": {
      "text/plain": [
       "0.0"
      ]
     },
     "execution_count": 48,
     "metadata": {},
     "output_type": "execute_result"
    }
   ],
   "source": [
    "sum_haus"
   ]
  },
  {
   "cell_type": "code",
   "execution_count": 49,
   "id": "26e6a737",
   "metadata": {},
   "outputs": [
    {
     "data": {
      "text/plain": [
       "8"
      ]
     },
     "execution_count": 49,
     "metadata": {},
     "output_type": "execute_result"
    }
   ],
   "source": [
    "l"
   ]
  },
  {
   "cell_type": "code",
   "execution_count": null,
   "id": "74ccb85a",
   "metadata": {},
   "outputs": [],
   "source": []
  }
 ],
 "metadata": {
  "kernelspec": {
   "display_name": "Python 3",
   "language": "python",
   "name": "python3"
  },
  "language_info": {
   "codemirror_mode": {
    "name": "ipython",
    "version": 3
   },
   "file_extension": ".py",
   "mimetype": "text/x-python",
   "name": "python",
   "nbconvert_exporter": "python",
   "pygments_lexer": "ipython3",
   "version": "3.8.11"
  }
 },
 "nbformat": 4,
 "nbformat_minor": 5
}
