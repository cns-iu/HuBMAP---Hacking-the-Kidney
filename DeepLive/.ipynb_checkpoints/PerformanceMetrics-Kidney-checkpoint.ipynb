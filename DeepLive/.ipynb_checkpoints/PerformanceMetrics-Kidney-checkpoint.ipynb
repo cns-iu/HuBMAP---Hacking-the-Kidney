{
 "cells": [
  {
   "cell_type": "markdown",
   "id": "electric-diesel",
   "metadata": {},
   "source": [
    "<h1> HubMap - Hacking the Kidney </h1>\n",
    "<h3> Goal - Mapping the human body at function tissue unit level - detect glomeruli FTUs in kidney </h3>\n",
    "\n",
    "Description - Calculate the performance metrics for test data predictions of kidney data. <br>\n",
    "Input - submission.csv (csv file containing rle format predicted mask), test.csv (csv file containing rle format original mask).<br>\n",
    "Output - Performance metrics values - dice coeff, Jaccard index, pixel accuracy, hausdorff distance. <br>\n",
    "\n",
    "<b>How to use?</b><br> \n",
    "Change the basepath to where your data lives and you're good to go. <br>\n",
    "\n",
    "<b>How to reproduce on a different dataset?</b><br>\n",
    "Create a train and test folders of the dataset containing train images and masks and test images and masks respectively. Have a train.csv with the rle for train images and a sample-submission file with test image names. Create a test.csv with rle for test images and predicted csv from the trained network. \n",
    "\n",
    "<hr>\n",
    "\n",
    "\n",
    "<h6> Step 1 - Import useful libraries</h6>"
   ]
  },
  {
   "cell_type": "code",
   "execution_count": 8,
   "id": "distant-large",
   "metadata": {},
   "outputs": [],
   "source": [
    "import numpy as np\n",
    "import pandas as pd\n",
    "from sklearn.metrics import jaccard_score\n",
    "from scipy.spatial.distance import directed_hausdorff\n",
    "import json\n",
    "import cv2\n",
    "import matplotlib.pyplot as plt\n",
    "from PIL import Image"
   ]
  },
  {
   "cell_type": "code",
   "execution_count": 11,
   "id": "loved-thompson",
   "metadata": {},
   "outputs": [],
   "source": [
    "DATA_PATH = r'C:/Users/soodn/Downloads/Naveksha/Kaggle HuBMAP/'\n",
    "df = pd.read_csv('submission_kidney_pvt_deeplive.csv')\n",
    "# Read ground truth rles as rles\n",
    "rles = pd.read_csv(DATA_PATH + 'Data/kidney-data/private_test.csv')"
   ]
  },
  {
   "cell_type": "code",
   "execution_count": 12,
   "id": "indirect-anaheim",
   "metadata": {},
   "outputs": [],
   "source": [
    "path_test = r'C:/Users/soodn/Downloads/Naveksha/Kaggle HuBMAP/Data/kidney-data/private test/'"
   ]
  },
  {
   "cell_type": "markdown",
   "id": "developed-sheriff",
   "metadata": {},
   "source": [
    "<h6> Step 2 - Write utility functions </h6> "
   ]
  },
  {
   "cell_type": "code",
   "execution_count": 13,
   "id": "dated-growing",
   "metadata": {},
   "outputs": [],
   "source": [
    "def dice_scores_img(pred, truth, eps=1e-8):\n",
    "    pred = pred.reshape(-1) > 0\n",
    "    truth = truth.reshape(-1) > 0\n",
    "    intersect = (pred & truth).sum(-1)\n",
    "    union = pred.sum(-1) + truth.sum(-1)\n",
    "\n",
    "    dice = (2.0 * intersect + eps) / (union + eps)\n",
    "    return dice"
   ]
  },
  {
   "cell_type": "code",
   "execution_count": 14,
   "id": "alive-japan",
   "metadata": {},
   "outputs": [],
   "source": [
    "def rle_encode_less_memory(img):\n",
    "    pixels = img.T.flatten()\n",
    "    pixels[0] = 0\n",
    "    pixels[-1] = 0\n",
    "    runs = np.where(pixels[1:] != pixels[:-1])[0] + 2\n",
    "    runs[1::2] -= runs[::2]\n",
    "    return ' '.join(str(x) for x in runs)\n",
    "\n",
    "def enc2mask(encs, shape):\n",
    "    img = np.zeros(shape[0] * shape[1], dtype=np.uint8)\n",
    "    for m, enc in enumerate(encs):\n",
    "        if isinstance(enc, np.float) and np.isnan(enc):\n",
    "            continue\n",
    "        enc_split = enc.split()\n",
    "        for i in range(len(enc_split) // 2):\n",
    "            start = int(enc_split[2 * i]) - 1\n",
    "            length = int(enc_split[2 * i + 1])\n",
    "            img[start: start + length] = 1 + m\n",
    "\n",
    "    return img.reshape(shape).T"
   ]
  },
  {
   "cell_type": "code",
   "execution_count": 15,
   "id": "naked-grill",
   "metadata": {},
   "outputs": [],
   "source": [
    "def read_mask(mask_file, mask_shape):\n",
    "    read_file = open(mask_file, \"r\", encoding='utf-8') \n",
    "    mask_data = json.load(read_file)\n",
    "    polys = []\n",
    "    for index in range(mask_data.__len__()):\n",
    "        geom = np.array(mask_data[index]['geometry']['coordinates'], dtype=np.int32)\n",
    "        polys.append(geom)\n",
    "\n",
    "    mask = np.zeros(mask_shape)\n",
    "    cv2.fillPoly(mask, polys, 1)\n",
    "    mask = mask.astype(bool)\n",
    "    return mask"
   ]
  },
  {
   "cell_type": "markdown",
   "id": "arabic-nowhere",
   "metadata": {},
   "source": [
    "##### Step 3 - Calculate mean metrics values for test images "
   ]
  },
  {
   "cell_type": "code",
   "execution_count": 17,
   "id": "mechanical-display",
   "metadata": {
    "scrolled": true
   },
   "outputs": [
    {
     "name": "stderr",
     "output_type": "stream",
     "text": [
      "<ipython-input-14-51874a31b1a4>:12: DeprecationWarning: `np.float` is a deprecated alias for the builtin `float`. To silence this warning, use `float` by itself. Doing this will not modify any behavior and is safe. If you specifically wanted the numpy scalar type, use `np.float64` here.\n",
      "Deprecated in NumPy 1.20; for more details and guidance: https://numpy.org/devdocs/release/1.20.0-notes.html#deprecations\n",
      "  if isinstance(enc, np.float) and np.isnan(enc):\n"
     ]
    },
    {
     "name": "stdout",
     "output_type": "stream",
     "text": [
      "(28672, 30400)\n",
      "(28672, 30400)\n",
      "0.947306437060565\n",
      "(26624, 30368)\n",
      "(26624, 30368)\n",
      "0.960884703233028\n",
      "(33103, 20329)\n",
      "(33103, 20329)\n",
      "0.9544122761166374\n",
      "(18491, 22134)\n",
      "(18491, 22134)\n",
      "0.923693008092995\n",
      "(36732, 22153)\n",
      "(36732, 22153)\n",
      "0.9331075763117931\n",
      "(33100, 27642)\n",
      "(33100, 27642)\n",
      "0.9476178319718085\n",
      "(32768, 62688)\n",
      "(32768, 62688)\n",
      "0.9671245404897417\n",
      "(22163, 23968)\n",
      "(22163, 23968)\n",
      "0.937107881688568\n",
      "(40816, 50560)\n",
      "(40816, 50560)\n",
      "0.9658314760007455\n",
      "(38912, 48544)\n",
      "(38912, 48544)\n",
      "0.9661910278158478\n"
     ]
    }
   ],
   "source": [
    "import json\n",
    "import cv2\n",
    "import matplotlib.pyplot as plt\n",
    "from PIL import Image\n",
    "import gdal\n",
    "sum_score = 0\n",
    "scores = []\n",
    "\n",
    "pvt_test = ['00a67c839', '0749c6ccc', '1eb18739d', '5274ef79a', '5d8b53a68', '9e81e2693', 'a14e495cf', 'bacb03928', 'e464d2f6c',\n",
    "'ff339c0b2']\n",
    "for img in pvt_test:\n",
    "    img_array = gdal.Open(path_test+img+'.tiff').ReadAsArray()\n",
    "    shape =  img_array.shape[1], img_array.shape[2]\n",
    "    truth = rles[rles['id'] == img]['expected']\n",
    "    mask_truth = enc2mask(truth, shape)\n",
    "    print (mask_truth.shape)\n",
    "    pred = df[df['id'] == img]['predicted']\n",
    "    mask_pred = enc2mask(pred, shape)  \n",
    "    print (mask_pred.shape)\n",
    "    score = dice_scores_img(mask_pred, mask_truth)\n",
    "    print (score)\n",
    "    scores.append(score)\n",
    "    sum_score += score"
   ]
  },
  {
   "cell_type": "code",
   "execution_count": 18,
   "id": "material-summit",
   "metadata": {},
   "outputs": [
    {
     "name": "stdout",
     "output_type": "stream",
     "text": [
      "0.947\n",
      "0.961\n",
      "0.954\n",
      "0.924\n",
      "0.933\n",
      "0.948\n",
      "0.967\n",
      "0.937\n",
      "0.966\n",
      "0.966\n",
      "0.95\n"
     ]
    }
   ],
   "source": [
    "# To find mean, divide by number of test images\n",
    "l = len(df)\n",
    "for img, s in zip(rles[5:]['id'],scores):\n",
    "    print (round(s, 3))\n",
    "    \n",
    "print (round(sum_score/l,3))"
   ]
  },
  {
   "cell_type": "markdown",
   "id": "9d0ef2c8",
   "metadata": {},
   "source": [
    "<hr> \n",
    "2 - 0.7823584118305178 0.9789166355475171 0.65511773076382 17.892116009274872 <br>\n",
    "3 - 0.8108048015490154 0.9801827959468621 0.6902205216112944 17.514854634509877 <br>\n",
    "4 - 0.8177225324575326 0.9790151482771239 0.6976625988788336 18.188822003916233 <br>\n"
   ]
  },
  {
   "cell_type": "code",
   "execution_count": null,
   "id": "ebed7731",
   "metadata": {},
   "outputs": [],
   "source": []
  }
 ],
 "metadata": {
  "kernelspec": {
   "display_name": "Python 3",
   "language": "python",
   "name": "python3"
  },
  "language_info": {
   "codemirror_mode": {
    "name": "ipython",
    "version": 3
   },
   "file_extension": ".py",
   "mimetype": "text/x-python",
   "name": "python",
   "nbconvert_exporter": "python",
   "pygments_lexer": "ipython3",
   "version": "3.8.11"
  }
 },
 "nbformat": 4,
 "nbformat_minor": 5
}
