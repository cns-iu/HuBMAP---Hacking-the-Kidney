{
 "cells": [
  {
   "cell_type": "markdown",
   "id": "electric-diesel",
   "metadata": {},
   "source": [
    "<h1> HubMap - Hacking the Kidney </h1>\n",
    "<h3> Goal - Mapping the human body at function tissue unit level - detect glomeruli FTUs in kidney </h3>\n",
    "\n",
    "Description - Calculate the performance metrics for test data predictions of kidney data. <br>\n",
    "Input - submission.csv (csv file containing rle format predicted mask), test.csv (csv file containing rle format original mask).<br>\n",
    "Output - Performance metrics values - dice coeff, Jaccard index, pixel accuracy, hausdorff distance. <br>\n",
    "\n",
    "<b>How to use?</b><br> \n",
    "Change the basepath to where your data lives and you're good to go. <br>\n",
    "\n",
    "<b>How to reproduce on a different dataset?</b><br>\n",
    "Create a train and test folders of the dataset containing train images and masks and test images and masks respectively. Have a train.csv with the rle for train images and a sample-submission file with test image names. Create a test.csv with rle for test images and predicted csv from the trained network. \n",
    "\n",
    "<hr>\n",
    "\n",
    "\n",
    "<h6> Step 1 - Import useful libraries<h6>"
   ]
  },
  {
   "cell_type": "code",
   "execution_count": 5,
   "id": "distant-large",
   "metadata": {},
   "outputs": [],
   "source": [
    "import numpy as np\n",
    "import pandas as pd\n",
    "from sklearn.metrics import jaccard_score\n",
    "from scipy.spatial.distance import directed_hausdorff\n",
    "import json\n",
    "import cv2\n",
    "import matplotlib.pyplot as plt\n",
    "from PIL import Image\n",
    "from pathlib import Path"
   ]
  },
  {
   "cell_type": "code",
   "execution_count": 8,
   "id": "loved-thompson",
   "metadata": {},
   "outputs": [],
   "source": [
    "DATA_PATH = Path(r'C:/Users/soodn/Downloads/Naveksha/Kaggle HuBMAP/')\n",
    "df = pd.read_csv('output/submission_df2_reproduced.csv')\n",
    "rles = pd.read_csv(DATA_PATH/'Data/kidney-data/test.csv')\n",
    "df_info = pd.read_csv(DATA_PATH/'Data/kidney-data/HuBMAP-20-dataset_information.csv')"
   ]
  },
  {
   "cell_type": "code",
   "execution_count": 3,
   "id": "personalized-municipality",
   "metadata": {},
   "outputs": [],
   "source": [
    "path_test = r'C:/Users/soodn/Downloads/Naveksha/Kaggle HuBMAP/Data/hubmap-kidney-segmentation-data/test/'"
   ]
  },
  {
   "cell_type": "markdown",
   "id": "developed-sheriff",
   "metadata": {},
   "source": [
    "<h6> Step 2 - Write utility functions </h6> "
   ]
  },
  {
   "cell_type": "code",
   "execution_count": 4,
   "id": "dated-growing",
   "metadata": {},
   "outputs": [],
   "source": [
    "def dice_scores_img(pred, truth, eps=1e-8):\n",
    "    pred = pred.reshape(-1) > 0\n",
    "    truth = truth.reshape(-1) > 0\n",
    "    intersect = (pred & truth).sum(-1)\n",
    "    union = pred.sum(-1) + truth.sum(-1)\n",
    "    dice = (2.0 * intersect + eps) / (union + eps)\n",
    "    return dice"
   ]
  },
  {
   "cell_type": "code",
   "execution_count": 5,
   "id": "military-stable",
   "metadata": {},
   "outputs": [],
   "source": [
    "def perf_metrics(gt, pred):\n",
    "    n = 0\n",
    "    d = 0\n",
    "    for i in range(gt.shape[0]):\n",
    "        for j in range (gt.shape[1]):\n",
    "            if (gt[i][j]==pred[i][j]):\n",
    "                n = n+1\n",
    "            d = d+1\n",
    "    \n",
    "    return n/d, jaccard_score(gt.flatten(order='C'), pred.flatten(order='C')), directed_hausdorff(gt, pred)"
   ]
  },
  {
   "cell_type": "code",
   "execution_count": 6,
   "id": "ordered-skirt",
   "metadata": {},
   "outputs": [],
   "source": [
    "def read_mask(mask_file, mask_shape):\n",
    "    read_file = open(mask_file, \"r\", encoding='utf-8') \n",
    "    mask_data = json.load(read_file)\n",
    "    polys = []\n",
    "    for index in range(mask_data.__len__()):\n",
    "        geom = np.array(mask_data[index]['geometry']['coordinates'], dtype=np.int32)\n",
    "        polys.append(geom)\n",
    "\n",
    "    mask = np.zeros(mask_shape)\n",
    "    cv2.fillPoly(mask, polys, 1)\n",
    "    mask = mask.astype(bool)\n",
    "    return mask"
   ]
  },
  {
   "cell_type": "code",
   "execution_count": 7,
   "id": "alive-japan",
   "metadata": {},
   "outputs": [],
   "source": [
    "def rle_encode_less_memory(img):\n",
    "    pixels = img.T.flatten()\n",
    "    pixels[0] = 0\n",
    "    pixels[-1] = 0\n",
    "    runs = np.where(pixels[1:] != pixels[:-1])[0] + 2\n",
    "    runs[1::2] -= runs[::2]\n",
    "    return ' '.join(str(x) for x in runs)\n",
    "\n",
    "def enc2mask(encs, shape):\n",
    "    img = np.zeros(shape[0] * shape[1], dtype=np.uint8)\n",
    "    for m, enc in enumerate(encs):\n",
    "        if isinstance(enc, np.float) and np.isnan(enc):\n",
    "            continue\n",
    "        enc_split = enc.split()\n",
    "        for i in range(len(enc_split) // 2):\n",
    "            start = int(enc_split[2 * i]) - 1\n",
    "            length = int(enc_split[2 * i + 1])\n",
    "            img[start: start + length] = 1 + m\n",
    "\n",
    "    return img.reshape(shape).T"
   ]
  },
  {
   "cell_type": "markdown",
   "id": "arabic-nowhere",
   "metadata": {},
   "source": [
    "<h6> Step 3 - Calculate mean metrics values for test images </h6> "
   ]
  },
  {
   "cell_type": "code",
   "execution_count": null,
   "id": "mechanical-display",
   "metadata": {},
   "outputs": [
    {
     "name": "stderr",
     "output_type": "stream",
     "text": [
      "<ipython-input-7-51874a31b1a4>:12: DeprecationWarning: `np.float` is a deprecated alias for the builtin `float`. To silence this warning, use `float` by itself. Doing this will not modify any behavior and is safe. If you specifically wanted the numpy scalar type, use `np.float64` here.\n",
      "Deprecated in NumPy 1.20; for more details and guidance: https://numpy.org/devdocs/release/1.20.0-notes.html#deprecations\n",
      "  if isinstance(enc, np.float) and np.isnan(enc):\n"
     ]
    }
   ],
   "source": [
    "sum_score = 0\n",
    "sum_pa = 0\n",
    "sum_ji = 0\n",
    "sum_haus = 0\n",
    "\n",
    "for img in rles['id'].unique():\n",
    "    shape = df_info[df_info.image_file == img + \".tiff\"][['width_pixels', 'height_pixels']].values.astype(int)[0]\n",
    "    truth = rles[rles['id'] == img]['encoding']\n",
    "    mask_truth = enc2mask(truth, shape)\n",
    "    pred = df[df['id'] == img]['predicted']\n",
    "    mask_pred = enc2mask(pred, shape)  \n",
    "    score = dice_scores_img(mask_pred, mask_truth)\n",
    "    pa, ji, haus = perf_metrics(mask_pred, mask_truth)    \n",
    "    sum_score += score\n",
    "    sum_pa += pa\n",
    "    sum_ji += ji\n",
    "    sum_haus += haus[0]\n",
    "    print (img, \"is done.\")"
   ]
  },
  {
   "cell_type": "code",
   "execution_count": null,
   "id": "material-summit",
   "metadata": {},
   "outputs": [],
   "source": [
    "l = len(df)\n",
    "print ('Dice Score:',sum_score/l, '\\n Pixel Accuracy:',sum_pa/l, '\\n Jaccard Index:',sum_ji/l, '\\n Hausdorff Distance:',sum_haus/l)"
   ]
  }
 ],
 "metadata": {
  "kernelspec": {
   "display_name": "Python 3",
   "language": "python",
   "name": "python3"
  },
  "language_info": {
   "codemirror_mode": {
    "name": "ipython",
    "version": 3
   },
   "file_extension": ".py",
   "mimetype": "text/x-python",
   "name": "python",
   "nbconvert_exporter": "python",
   "pygments_lexer": "ipython3",
   "version": "3.8.11"
  }
 },
 "nbformat": 4,
 "nbformat_minor": 5
}
