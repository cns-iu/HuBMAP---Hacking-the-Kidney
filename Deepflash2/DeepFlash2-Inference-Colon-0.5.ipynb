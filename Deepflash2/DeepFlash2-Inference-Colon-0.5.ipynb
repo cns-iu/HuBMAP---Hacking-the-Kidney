{
 "cells": [
  {
   "cell_type": "markdown",
   "metadata": {
    "id": "OcsetTMwKXqC"
   },
   "source": [
    "<h1> HubMap - Hacking the Kidney </h1>\n",
    "<h3> Goal - Mapping the human body at function tissue unit level - detect crypts FTUs in colon </h3>\n",
    "\n",
    "Implementation of Kaggle Notebook - Innovation Prize Winner - Deep Flash2 <br>\n",
    "Description - Use 5 fold models to predict on test image masks <br>\n",
    "Input - models, test images, sample_submission.csv  <br>\n",
    "Output - submission_df2_generalized.csv (rle for test images) <br>\n",
    "\n",
    "<b>How to use?</b><br> \n",
    "Change the basepath to where your data lives and you're good to go. <br>\n",
    "\n",
    "Link to the original notebook - https://www.kaggle.com/matjes/hubmap-deepflash2-submission\n",
    "\n",
    "\n",
    "<h6> Step 1 - Import useful libraries </h6>"
   ]
  },
  {
   "cell_type": "code",
   "execution_count": 1,
   "metadata": {
    "_kg_hide-input": true
   },
   "outputs": [],
   "source": [
    "import sys\n",
    "import cv2, torch, gc, rasterio\n",
    "import torch.nn.functional as F\n",
    "import deepflash2.tta as tta\n",
    "import matplotlib.pyplot as plt\n",
    "import pandas as pd, numpy as np\n",
    "import segmentation_models_pytorch as smp\n",
    "from pathlib import Path\n",
    "from rasterio.windows import Window\n",
    "from torch.utils.data import Dataset, DataLoader\n",
    "from scipy .ndimage.filters import gaussian_filter\n",
    "from tqdm.notebook import tqdm\n",
    "import glob\n",
    "\n",
    "import warnings\n",
    "warnings.filterwarnings(\"ignore\")"
   ]
  },
  {
   "cell_type": "markdown",
   "metadata": {},
   "source": [
    "<h6> Step 2 - Helper functions </h6>"
   ]
  },
  {
   "cell_type": "code",
   "execution_count": 2,
   "metadata": {
    "_kg_hide-input": true
   },
   "outputs": [],
   "source": [
    "#https://www.kaggle.com/bguberfain/memory-aware-rle-encoding\n",
    "#with transposed mask\n",
    "def rle_encode_less_memory(img):\n",
    "    #the image should be transposed\n",
    "    pixels = img.T.flatten()\n",
    "    \n",
    "    # This simplified method requires first and last pixel to be zero\n",
    "    pixels[0] = 0\n",
    "    pixels[-1] = 0\n",
    "    runs = np.where(pixels[1:] != pixels[:-1])[0] + 2\n",
    "    runs[1::2] -= runs[::2]\n",
    "    \n",
    "    return ' '.join(str(x) for x in runs)\n",
    "\n",
    "def load_model_weights(model, file, strict=True):\n",
    "    state = torch.load(file, map_location='cpu')\n",
    "    stats = state['stats']\n",
    "    model_state = state['model']\n",
    "    model.load_state_dict(model_state, strict=strict)\n",
    "    return model, stats\n",
    "\n",
    "# from https://github.com/MIC-DKFZ/nnUNet/blob/2fade8f32607220f8598544f0d5b5e5fa73768e5/nnunet/network_architecture/neural_network.py#L250\n",
    "def _get_gaussian(patch_size, sigma_scale=1. / 8) -> np.ndarray:\n",
    "    tmp = np.zeros(patch_size)\n",
    "    center_coords = [i // 2 for i in patch_size]\n",
    "    sigmas = [i * sigma_scale for i in patch_size]\n",
    "    tmp[tuple(center_coords)] = 1\n",
    "    gaussian_importance_map = gaussian_filter(tmp, sigmas, 0, mode='constant', cval=0)\n",
    "    gaussian_importance_map = gaussian_importance_map / np.max(gaussian_importance_map) * 1\n",
    "    gaussian_importance_map = gaussian_importance_map.astype(np.float32)\n",
    "\n",
    "    # gaussian_importance_map cannot be 0, otherwise we may end up with nans!\n",
    "    gaussian_importance_map[gaussian_importance_map == 0] = np.min(\n",
    "        gaussian_importance_map[gaussian_importance_map != 0])\n",
    "\n",
    "    return gaussian_importance_map"
   ]
  },
  {
   "cell_type": "code",
   "execution_count": 3,
   "metadata": {
    "_kg_hide-input": true
   },
   "outputs": [],
   "source": [
    "# Some code adapted from https://www.kaggle.com/iafoss/hubmap-pytorch-fast-ai-starter-sub\n",
    "class HubmapDataset(Dataset):\n",
    "    'HubmapDataset class that does not load the full tiff files.'\n",
    "    def __init__(self, file, stats, scale=3, shift=.8, output_shape=(512,512), s_th = 40):\n",
    "        \n",
    "        self.mean, self.std = stats\n",
    "        self.scale = scale\n",
    "        self.shift = shift\n",
    "        self.output_shape = output_shape\n",
    "        self.input_shape = tuple(int(t*scale) for t in self.output_shape)      \n",
    "        self.s_th = s_th #saturation blancking threshold\n",
    "        self.p_th = 1000*(self.output_shape[0]//256)**2 #threshold for the minimum number of pixels\n",
    "\n",
    "        identity = rasterio.Affine(1, 0, 0, 0, 1, 0)\n",
    "        self.data = rasterio.open(file, transform = identity, num_threads='all_cpus')\n",
    "        if self.data.count != 3:\n",
    "            subdatasets = self.data.subdatasets\n",
    "            self.layers = []\n",
    "            if len(subdatasets) > 0:\n",
    "                for i, subdataset in enumerate(subdatasets, 0):\n",
    "                    self.layers.append(rasterio.open(subdataset))\n",
    "            \n",
    "        # Tiling\n",
    "        self.slices = []\n",
    "        self.out_slices = []\n",
    "        self.out_data_shape = tuple(int(x//self.scale) for x in self.data.shape)\n",
    "        start_points = [o//2 for o in self.output_shape]\n",
    "        end_points = [(s - st) for s, st in zip(self.out_data_shape, start_points)]\n",
    "        n_points = [int(s//(o*self.shift))+1 for s, o in zip(self.out_data_shape, self.output_shape)]\n",
    "        center_points = [np.linspace(st, e, num=n, endpoint=True, dtype=np.int64) for st, e, n in zip(start_points, end_points, n_points)]\n",
    "        for cx in center_points[1]:\n",
    "            for cy in center_points[0]:\n",
    "                # Calculate output slices for whole image\n",
    "                slices = tuple(slice(int((c*self.scale - o/2).clip(0, s)), int((c*self.scale + o/2).clip(max=s)))\n",
    "                                 for (c, o, s) in zip((cy, cx), self.input_shape, self.data.shape))\n",
    "                self.slices.append(slices)\n",
    "                \n",
    "                out_slices = tuple(slice(int((c - o/2).clip(0, s)), int((c + o/2).clip(max=s)))\n",
    "                                 for (c, o, s) in zip((cy, cx), self.output_shape, self.out_data_shape))\n",
    "                self.out_slices.append(out_slices)\n",
    "                \n",
    "\n",
    "    def __len__(self):\n",
    "        return len(self.slices)\n",
    "\n",
    "    def __getitem__(self, idx):\n",
    "        if torch.is_tensor(idx):\n",
    "            idx = idx.tolist()\n",
    "            \n",
    "        slices = self.slices[idx]\n",
    "        if self.data.count == 3: # normal\n",
    "            img = self.data.read([1, 2, 3], \n",
    "                window=Window.from_slices(*slices)\n",
    "            )\n",
    "            img = np.moveaxis(img, 0, -1)\n",
    "        else: # with subdatasets/layers\n",
    "            img = np.zeros((*self.input_shape, 3), dtype=np.uint8)\n",
    "            for fl in range(3):\n",
    "                img[:, :, fl] = self.layers[fl].read(\n",
    "                    window=Window.from_slices(*slices)\n",
    "                )\n",
    "        \n",
    "        if self.scale!=1:\n",
    "            img = cv2.resize(img, self.output_shape, interpolation = cv2.INTER_AREA)\n",
    "        \n",
    "        #check for empty imges\n",
    "        hsv = cv2.cvtColor(img, cv2.COLOR_BGR2HSV)\n",
    "        h,s,v = cv2.split(hsv)\n",
    "        if (s>self.s_th).sum() <= self.p_th or img.sum() <= self.p_th:\n",
    "            # Remove if idx=-1\n",
    "            idx = -1\n",
    "        \n",
    "        img = (img/255.0 - self.mean)/self.std\n",
    "        img = img.transpose(2, 0, 1).astype('float32')\n",
    "        \n",
    "        return torch.from_numpy(img), idx\n",
    "    \n",
    "class Model_pred:\n",
    "    'Class for prediction with multiple models'\n",
    "    def __init__(self, models, use_tta=True, batch_size=32):\n",
    "        self.models = models\n",
    "        self.bs = batch_size\n",
    "        self.tfms = [tta.HorizontalFlip(), tta.VerticalFlip()] if use_tta else []\n",
    "        \n",
    "    def predict(self, ds):\n",
    "        #rasterio cannot be used with multiple workers\n",
    "        dl = DataLoader(ds, self.bs, num_workers=0, shuffle=False, pin_memory=True)\n",
    "        \n",
    "        # Create zero arrays\n",
    "        pred = np.zeros(ds.out_data_shape, dtype='float32')\n",
    "        merge_map = np.zeros(ds.out_data_shape, dtype='float32')\n",
    "        \n",
    "        # Gaussian weights\n",
    "        gw_numpy = _get_gaussian(ds.output_shape)\n",
    "        gw = torch.from_numpy(gw_numpy).to(device)\n",
    "        \n",
    "        with torch.no_grad():\n",
    "            for images, idxs in tqdm(iter(dl), total=len(dl)):\n",
    "                if ((idxs>=0).sum() > 0): #exclude empty images\n",
    "                    images = images[idxs>=0].to(device)\n",
    "                    idxs = idxs[idxs>=0]\n",
    "                    merger = tta.Merger()\n",
    "                    for t in tta.Compose(self.tfms):\n",
    "                        aug_images = t.augment_image(images)\n",
    "                        model_merger = tta.Merger()\n",
    "                        for model in self.models:\n",
    "                            out = model(aug_images)\n",
    "                            out = F.softmax(out, dim=1)\n",
    "                            model_merger.append(out)\n",
    "                        out = t.deaugment_mask(model_merger.result())\n",
    "                        merger.append(out)\n",
    "            \n",
    "                    # Apply gaussian weigthing\n",
    "                    batch_smx = merger.result()*gw.view(1,1,*gw.shape)\n",
    "                    batch_smx = [x for x in batch_smx.permute(0,2,3,1).cpu().numpy()]\n",
    "\n",
    "                    for smx, idx in zip(batch_smx, idxs):\n",
    "                        slcs = ds.out_slices[idx]\n",
    "                        # Only using positive class here\n",
    "                        pred[slcs] += smx[...,1]\n",
    "                        merge_map[slcs] += gw_numpy\n",
    "\n",
    "        pred /= merge_map\n",
    "        return pred"
   ]
  },
  {
   "cell_type": "markdown",
   "metadata": {},
   "source": [
    "<h6> Step 3 - Set configuration </h6>"
   ]
  },
  {
   "cell_type": "code",
   "execution_count": 11,
   "metadata": {},
   "outputs": [],
   "source": [
    "class CONFIG():\n",
    "    path = r'C:\\Users\\soodn\\Downloads\\Naveksha\\Kaggle HuBMAP\\Scripts\\5. DeepFlash'\n",
    "    # data paths\n",
    "    data_path = r'C:\\Users\\soodn\\Downloads\\Naveksha\\Kaggle HuBMAP\\Data\\colon-data-reprocessed'\n",
    "    # Local train on all data\n",
    "    model_path = path+'/models'\n",
    "    #model_path = Path('../input/hubmap-deepflash2-train')\n",
    "    \n",
    "    # zoom factor (e.g., 3 means downscaling from 1536 to 512)\n",
    "    scale = 3 \n",
    "    # tile shift for prediction\n",
    "    shift = 0.8 \n",
    "    tile_shape = (512, 512)\n",
    "\n",
    "    # pytorch model (https://github.com/qubvel/segmentation_models.pytorch)\n",
    "    encoder_name = \"efficientnet-b2\"\n",
    "    encoder_weights = None\n",
    "    in_channels = 3\n",
    "    classes = 2\n",
    "    \n",
    "    # dataloader \n",
    "    batch_size = 32\n",
    "    \n",
    "    # test time augmentation\n",
    "    tta = True\n",
    "    # prediction threshold\n",
    "    threshold = 0.5\n",
    "    \n",
    "cfg = CONFIG()"
   ]
  },
  {
   "cell_type": "markdown",
   "metadata": {},
   "source": [
    "<h6> Step 4 - Read models </h6>"
   ]
  },
  {
   "cell_type": "code",
   "execution_count": 12,
   "metadata": {},
   "outputs": [
    {
     "name": "stdout",
     "output_type": "stream",
     "text": [
      "Found 5 models C:\\Users\\soodn\\Downloads\\Naveksha\\Kaggle HuBMAP\\Scripts\\5. DeepFlash/models\\unet_efficientnet-b2_0.pth C:\\Users\\soodn\\Downloads\\Naveksha\\Kaggle HuBMAP\\Scripts\\5. DeepFlash/models\\unet_efficientnet-b2_1.pth C:\\Users\\soodn\\Downloads\\Naveksha\\Kaggle HuBMAP\\Scripts\\5. DeepFlash/models\\unet_efficientnet-b2_2.pth C:\\Users\\soodn\\Downloads\\Naveksha\\Kaggle HuBMAP\\Scripts\\5. DeepFlash/models\\unet_efficientnet-b2_3.pth C:\\Users\\soodn\\Downloads\\Naveksha\\Kaggle HuBMAP\\Scripts\\5. DeepFlash/models\\unet_efficientnet-b2_4.pth\n"
     ]
    }
   ],
   "source": [
    "# Sample submissions for ids\n",
    "df_sample = pd.read_csv(cfg.data_path+'/sample_submission.csv', index_col = \"id\")\n",
    "device = torch.device('cuda' if torch.cuda.is_available() else 'cpu')\n",
    "\n",
    "# Models (see https://github.com/qubvel/segmentation_models.pytorch)\n",
    "MODELS = [name for name in glob.glob(cfg.model_path+'/*.pth')]\n",
    "print(f'Found {len(MODELS)} models', *MODELS)\n",
    "\n",
    "models = []\n",
    "for i, m_path in enumerate(MODELS):\n",
    "    #state_dict = torch.load(path,map_location=torch.device('cpu'))\n",
    "    model = smp.Unet(encoder_name=cfg.encoder_name, \n",
    "                     encoder_weights=cfg.encoder_weights, \n",
    "                     in_channels=cfg.in_channels, \n",
    "                     classes=cfg.classes)\n",
    "    model, stats = load_model_weights(model, m_path)\n",
    "    model.float()\n",
    "    model.eval()\n",
    "    model.to(device)\n",
    "    models.append(model)\n",
    "\n",
    "mp = Model_pred(models, use_tta=cfg.tta, batch_size=cfg.batch_size)"
   ]
  },
  {
   "cell_type": "markdown",
   "metadata": {},
   "source": [
    "<h6> Step 5: Make prediction </h6>"
   ]
  },
  {
   "cell_type": "code",
   "execution_count": 15,
   "metadata": {},
   "outputs": [
    {
     "data": {
      "application/vnd.jupyter.widget-view+json": {
       "model_id": "96cc365ee99a403ab69e8e1065624b6a",
       "version_major": 2,
       "version_minor": 0
      },
      "text/plain": [
       "  0%|          | 0/2 [00:00<?, ?it/s]"
      ]
     },
     "metadata": {},
     "output_type": "display_data"
    },
    {
     "name": "stdout",
     "output_type": "stream",
     "text": [
      "###### File CL_HandE_1234_B004_bottomleft ######\n",
      "C:\\Users\\soodn\\Downloads\\Naveksha\\Kaggle HuBMAP\\Data\\colon-data-reprocessed/test/CL_HandE_1234_B004_bottomleft.tiff\n",
      "Predicting...\n"
     ]
    },
    {
     "data": {
      "application/vnd.jupyter.widget-view+json": {
       "model_id": "64efea3b2e1a4d3c961ece7f207cb169",
       "version_major": 2,
       "version_minor": 0
      },
      "text/plain": [
       "  0%|          | 0/1 [00:00<?, ?it/s]"
      ]
     },
     "metadata": {},
     "output_type": "display_data"
    },
    {
     "name": "stdout",
     "output_type": "stream",
     "text": [
      "Rezising...\n",
      "Plotting\n"
     ]
    },
    {
     "data": {
      "image/png": "[encoded data removed]",
      "text/plain": [
       "<Figure size 1080x1080 with 1 Axes>"
      ]
     },
     "metadata": {
      "needs_background": "light"
     },
     "output_type": "display_data"
    },
    {
     "name": "stdout",
     "output_type": "stream",
     "text": [
      "###### File HandE_B005_CL_b_RGB_bottomleft ######\n",
      "C:\\Users\\soodn\\Downloads\\Naveksha\\Kaggle HuBMAP\\Data\\colon-data-reprocessed/test/HandE_B005_CL_b_RGB_bottomleft.tiff\n",
      "Predicting...\n"
     ]
    },
    {
     "data": {
      "application/vnd.jupyter.widget-view+json": {
       "model_id": "9e0ee298de0f40b7b9629f5d2328833a",
       "version_major": 2,
       "version_minor": 0
      },
      "text/plain": [
       "  0%|          | 0/1 [00:00<?, ?it/s]"
      ]
     },
     "metadata": {},
     "output_type": "display_data"
    },
    {
     "name": "stdout",
     "output_type": "stream",
     "text": [
      "Rezising...\n",
      "Plotting\n"
     ]
    },
    {
     "data": {
      "image/png": "[encoded data removed]",
      "text/plain": [
       "<Figure size 1080x1080 with 1 Axes>"
      ]
     },
     "metadata": {
      "needs_background": "light"
     },
     "output_type": "display_data"
    }
   ],
   "source": [
    "names,preds = [],[]\n",
    "for idx,row in tqdm(df_sample.iterrows(),total=len(df_sample)):\n",
    "    \n",
    "    print(f'###### File {idx} ######')\n",
    "    f = cfg.data_path+f'/test/{idx}.tiff'\n",
    "    print (f)\n",
    "    ds = HubmapDataset(f, stats, scale=cfg.scale, shift=cfg.shift, output_shape=cfg.tile_shape)\n",
    "    \n",
    "    print('Predicting...')   \n",
    "    pred = mp.predict(ds)\n",
    "       \n",
    "    print('Rezising...')\n",
    "    shape = ds.data.shape\n",
    "    pred = cv2.resize((pred*255).astype('uint8'), (shape[1], shape[0]))\n",
    "    \n",
    "    pred = (pred>cfg.threshold*255).astype(np.uint8)\n",
    "    \n",
    "    #convert to rle\n",
    "    #https://www.kaggle.com/bguberfain/memory-aware-rle-encoding\n",
    "    rle = rle_encode_less_memory(pred)\n",
    "    names.append(idx)\n",
    "    preds.append(rle)\n",
    "    \n",
    "    print('Plotting')\n",
    "    fig, ax = plt.subplots(figsize=(15,15))\n",
    "    ax.imshow(cv2.resize(pred, (1024, 1024*shape[0]//shape[1])))\n",
    "    plt.show()\n",
    "    \n",
    "    del pred\n",
    "    gc.collect()"
   ]
  },
  {
   "cell_type": "code",
   "execution_count": 16,
   "metadata": {},
   "outputs": [
    {
     "data": {
      "text/html": [
       "<div>\n",
       "<style scoped>\n",
       "    .dataframe tbody tr th:only-of-type {\n",
       "        vertical-align: middle;\n",
       "    }\n",
       "\n",
       "    .dataframe tbody tr th {\n",
       "        vertical-align: top;\n",
       "    }\n",
       "\n",
       "    .dataframe thead th {\n",
       "        text-align: right;\n",
       "    }\n",
       "</style>\n",
       "<table border=\"1\" class=\"dataframe\">\n",
       "  <thead>\n",
       "    <tr style=\"text-align: right;\">\n",
       "      <th></th>\n",
       "      <th>id</th>\n",
       "      <th>predicted</th>\n",
       "    </tr>\n",
       "  </thead>\n",
       "  <tbody>\n",
       "    <tr>\n",
       "      <th>0</th>\n",
       "      <td>CL_HandE_1234_B004_bottomleft</td>\n",
       "      <td></td>\n",
       "    </tr>\n",
       "    <tr>\n",
       "      <th>1</th>\n",
       "      <td>HandE_B005_CL_b_RGB_bottomleft</td>\n",
       "      <td></td>\n",
       "    </tr>\n",
       "  </tbody>\n",
       "</table>\n",
       "</div>"
      ],
      "text/plain": [
       "                               id predicted\n",
       "0   CL_HandE_1234_B004_bottomleft          \n",
       "1  HandE_B005_CL_b_RGB_bottomleft          "
      ]
     },
     "execution_count": 16,
     "metadata": {},
     "output_type": "execute_result"
    }
   ],
   "source": [
    "df = pd.DataFrame({'id':names,'predicted':preds})\n",
    "df.to_csv('output/submission_colon_generalized.csv',index=False)\n",
    "df.head()"
   ]
  },
  {
   "cell_type": "code",
   "execution_count": null,
   "metadata": {},
   "outputs": [],
   "source": []
  }
 ],
 "metadata": {
  "kernelspec": {
   "display_name": "Python 3",
   "language": "python",
   "name": "python3"
  },
  "language_info": {
   "codemirror_mode": {
    "name": "ipython",
    "version": 3
   },
   "file_extension": ".py",
   "mimetype": "text/x-python",
   "name": "python",
   "nbconvert_exporter": "python",
   "pygments_lexer": "ipython3",
   "version": "3.8.11"
  }
 },
 "nbformat": 4,
 "nbformat_minor": 4
}
