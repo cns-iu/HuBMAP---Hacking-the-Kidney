{
 "cells": [
  {
   "cell_type": "markdown",
   "metadata": {},
   "source": [
    "**About** : This notebook is used to analyse a more in-dpeth analysis of model performance."
   ]
  },
  {
   "cell_type": "code",
   "execution_count": null,
   "metadata": {},
   "outputs": [],
   "source": [
    "%load_ext autoreload\n",
    "%autoreload 2"
   ]
  },
  {
   "cell_type": "markdown",
   "metadata": {},
   "source": [
    "## Initialization"
   ]
  },
  {
   "cell_type": "markdown",
   "metadata": {},
   "source": [
    "### Imports"
   ]
  },
  {
   "cell_type": "code",
   "execution_count": null,
   "metadata": {},
   "outputs": [],
   "source": [
    "import os\n",
    "import sys\n",
    "import cv2\n",
    "import json\n",
    "import glob\n",
    "import numpy as np\n",
    "import pandas as pd\n",
    "import plotly.express as px\n",
    "import plotly.graph_objects as go\n",
    "\n",
    "from tqdm.notebook import tqdm\n",
    "\n",
    "sys.path.append(\"../code/\")"
   ]
  },
  {
   "cell_type": "code",
   "execution_count": null,
   "metadata": {},
   "outputs": [],
   "source": [
    "from params import *\n",
    "from utils.rle import *\n",
    "\n",
    "from data.dataset import load_image\n",
    "\n",
    "from utils.metrics import dice_scores_img\n",
    "from utils.plots import plot_heatmap_preds, plot_contours_preds"
   ]
  },
  {
   "cell_type": "markdown",
   "metadata": {},
   "source": [
    "### Data"
   ]
  },
  {
   "cell_type": "code",
   "execution_count": null,
   "metadata": {},
   "outputs": [],
   "source": [
    "THRESHOLD = 0.5"
   ]
  },
  {
   "cell_type": "code",
   "execution_count": null,
   "metadata": {},
   "outputs": [],
   "source": [
    "df_info = pd.read_csv(DATA_PATH + f\"HuBMAP-20-dataset_information.csv\")\n",
    "df_mask = pd.read_csv(DATA_PATH + \"train_2_fix.csv\")\n",
    "df_test = pd.read_csv(DATA_PATH + \"sample_submission.csv\")"
   ]
  },
  {
   "cell_type": "markdown",
   "metadata": {},
   "source": [
    "### Experiment"
   ]
  },
  {
   "cell_type": "code",
   "execution_count": null,
   "metadata": {},
   "outputs": [],
   "source": [
    "log_folder = \"../logs/2021-05-06/1/\"  # b1"
   ]
  },
  {
   "cell_type": "code",
   "execution_count": null,
   "metadata": {},
   "outputs": [],
   "source": [
    "class Config:\n",
    "    def __init__(self, **entries):\n",
    "        self.__dict__.update(entries)\n",
    "\n",
    "config = json.load(open(log_folder + 'config.json', 'r'))\n",
    "config = Config(**config)"
   ]
  },
  {
   "cell_type": "code",
   "execution_count": null,
   "metadata": {},
   "outputs": [],
   "source": [
    "preds = glob.glob(log_folder + \"pred_*.npy\")"
   ]
  },
  {
   "cell_type": "markdown",
   "metadata": {},
   "source": [
    "### Centers"
   ]
  },
  {
   "cell_type": "code",
   "execution_count": null,
   "metadata": {},
   "outputs": [],
   "source": [
    "def get_centers_pred(pred, threshold=0.5):\n",
    "    mask = (pred > threshold).astype(np.uint8)\n",
    "    _, components, boxes = cv2.connectedComponentsWithStats(mask, connectivity=8)[:3]\n",
    "    centers, maxs = [], []\n",
    "    \n",
    "    for i, b in enumerate(boxes[1:]):\n",
    "        box = (\n",
    "            max(b[0] - 1, 0), \n",
    "            max(b[1] - 1, 0), \n",
    "            min(b[0] + b[2] + 1, mask.shape[1]),\n",
    "            min(b[1] + b[3] + 1, mask.shape[0]),\n",
    "        )\n",
    "        \n",
    "        if b[-1] < 100: # remove artefacts\n",
    "            continue\n",
    "\n",
    "        centers.append(np.array([(box[3] + box[1]) / 2, (box[0] + box[2]) / 2])[None, :])\n",
    "        \n",
    "        comp = (components == i + 1)[box[1]: box[3], box[0]: box[2]]\n",
    "        component_probas = pred[box[1]: box[3], box[0]: box[2]] * comp\n",
    "        maxs.append(component_probas.max())\n",
    "    \n",
    "    return np.concatenate(centers), maxs"
   ]
  },
  {
   "cell_type": "code",
   "execution_count": null,
   "metadata": {},
   "outputs": [],
   "source": [
    "def get_centers_truth(json):\n",
    "    centers = []\n",
    "    for gt in json:\n",
    "        min_ = np.min(gt['geometry']['coordinates'], 1)[:, ::-1]\n",
    "        max_ = np.max(gt['geometry']['coordinates'], 1)[:, ::-1]\n",
    "        \n",
    "        centers.append((min_ + max_) / 2)\n",
    "        \n",
    "    return np.concatenate(centers)"
   ]
  },
  {
   "cell_type": "code",
   "execution_count": null,
   "metadata": {},
   "outputs": [],
   "source": [
    "def count_detected_glomerulis(centers, mask):\n",
    "    return np.sum([mask[tuple(center.astype(int))] for center in centers])"
   ]
  },
  {
   "cell_type": "code",
   "execution_count": null,
   "metadata": {},
   "outputs": [],
   "source": [
    "def compute_glomeruli_level_stats(mask, gt_json, pred, reduce=1):\n",
    "    pred_centers, _ = get_centers_pred(pred, threshold=0.5)\n",
    "    truth_centers = get_centers_truth(gt_json) / reduce\n",
    "    \n",
    "    tp = count_detected_glomerulis(pred_centers, mask)\n",
    "    fn = max(0, len(truth_centers) - tp)\n",
    "    fp = max(0, len(pred_centers) - count_detected_glomerulis(truth_centers, pred))\n",
    "    \n",
    "    return tp, int(fn), int(fp)"
   ]
  },
  {
   "cell_type": "code",
   "execution_count": null,
   "metadata": {},
   "outputs": [],
   "source": [
    "if not os.path.exists(log_folder + \"metrics.json\"):\n",
    "    metrics = {\n",
    "        \"recall\": [],\n",
    "        \"precision\": [],\n",
    "        \"f1\": [],\n",
    "        \"acc\": []\n",
    "    }\n",
    "\n",
    "    for mask_name in tqdm(df_mask['id'].values):\n",
    "        gt_json = json.load(open(TIFF_PATH + mask_name + \".json\", \"r\"))\n",
    "\n",
    "        idx = [i for i, path in enumerate(preds) if mask_name in path][0]\n",
    "        probs = np.load(preds[idx]).astype(np.float32)\n",
    "\n",
    "        if len(probs.shape) == 3:\n",
    "            probs = probs.mean(0)\n",
    "\n",
    "        pred = (probs > THRESHOLD).astype(np.uint8)\n",
    "\n",
    "        rle = df_mask[df_mask['id'] == mask_name]['encoding']\n",
    "        mask = enc2mask(rle, (pred.shape[1], pred.shape[0]))\n",
    "\n",
    "        tp, fn, fp = compute_glomeruli_level_stats(mask, gt_json, pred, reduce=2)\n",
    "\n",
    "        recall = tp / (tp + fn)\n",
    "        prec = tp / (tp + fp)\n",
    "        f1 = 2 * prec * recall / (prec + recall)\n",
    "        acc = tp / (tp + fp + fn)\n",
    "\n",
    "        metrics['recall'].append(recall)\n",
    "        metrics['f1'].append(f1)\n",
    "        metrics['precision'].append(prec)\n",
    "        metrics['acc'].append(acc)\n",
    "\n",
    "    json.dump(metrics, open(log_folder + \"metrics.json\", \"w\"))\n",
    "else:\n",
    "    metrics = json.load(open(log_folder + \"metrics.json\", \"r\"))"
   ]
  },
  {
   "cell_type": "code",
   "execution_count": null,
   "metadata": {},
   "outputs": [],
   "source": [
    "df = pd.DataFrame.from_dict(metrics)\n",
    "df.mean()"
   ]
  },
  {
   "cell_type": "markdown",
   "metadata": {},
   "source": [
    "### Plot"
   ]
  },
  {
   "cell_type": "code",
   "execution_count": null,
   "metadata": {},
   "outputs": [],
   "source": [
    "df_mask['id'].values"
   ]
  },
  {
   "cell_type": "code",
   "execution_count": null,
   "metadata": {},
   "outputs": [],
   "source": [
    "mask_name = \"8242609fa\" \n",
    "gt_json = json.load(open(TIFF_PATH + mask_name + \".json\", \"r\"))\n",
    "\n",
    "idx = [i for i, path in enumerate(preds) if mask_name in path][0]\n",
    "probs = np.load(preds[idx]).astype(np.float32)\n",
    "\n",
    "if len(probs.shape) == 3:\n",
    "    probs = probs.mean(0)\n",
    "\n",
    "pred = (probs > THRESHOLD).astype(np.uint8)\n",
    "\n",
    "img = load_image(os.path.join(TIFF_PATH_2, mask_name + \".tiff\"), full_size=False, reduce_factor=2)\n",
    "\n",
    "rle = df_mask[df_mask['id'] == mask_name]['encoding']\n",
    "mask = enc2mask(rle, (img.shape[1], img.shape[0]))"
   ]
  },
  {
   "cell_type": "code",
   "execution_count": null,
   "metadata": {
    "scrolled": true
   },
   "outputs": [],
   "source": [
    "# tp, fn, fp = compute_glomeruli_level_stats(mask, gt_json, pred, reduce=2)\n",
    "\n",
    "# print('Number of glomeruli :', len(gt_json))\n",
    "# print('TP :', tp)\n",
    "# print('FP :', fp)\n",
    "# print('FN :', fn)\n",
    "\n",
    "# recall = tp / (tp + fn)\n",
    "# prec = tp / (tp + fp)\n",
    "# f1 = 2 * prec * recall / (prec + recall)\n",
    "# acc = tp / (tp + fp + fn)\n",
    "\n",
    "# print(f'Accuracy : {acc :.4f}')\n",
    "# print(f'Precision : {prec :.4f}')\n",
    "# print(f'Recall : {recall :.4f}')\n",
    "# print(f'F1 score : {f1 :.4f}')"
   ]
  },
  {
   "cell_type": "markdown",
   "metadata": {},
   "source": [
    "### Viz"
   ]
  },
  {
   "cell_type": "code",
   "execution_count": null,
   "metadata": {},
   "outputs": [],
   "source": [
    "centers_pred, maxs = get_centers_pred(probs)\n",
    "centers_truth = get_centers_truth(gt_json) / 2"
   ]
  },
  {
   "cell_type": "code",
   "execution_count": null,
   "metadata": {
    "scrolled": false
   },
   "outputs": [],
   "source": [
    "downsize = 4\n",
    "w = 2 if downsize == 4 else 1\n",
    "fig = plot_contours_preds(\n",
    "    img, \n",
    "    pred, \n",
    "    mask=None, \n",
    "    w=w, \n",
    "    downsize=downsize\n",
    ")\n",
    "\n",
    "# fig.add_trace(\n",
    "#     go.Scatter(x=centers[:, 0] / downsize, y=centers[:, 1] / downsize, mode='markers', name=\"Truth Center\")\n",
    "# )\n",
    "\n",
    "fig.add_trace(\n",
    "    go.Scatter(\n",
    "        x=centers_pred[:, 1] / downsize, \n",
    "        y=centers_pred[:, 0] / downsize, \n",
    "        mode='markers', \n",
    "        name=\"Pred Center\", \n",
    "        text=[f\"Confidence : {m:.2f}\" for m in maxs],\n",
    "        marker_color='rgba(10, 230, 10, .9)'\n",
    "    )\n",
    ")\n",
    "\n",
    "w = 1000\n",
    "h = int(w *  mask.shape[0] / mask.shape[1])\n",
    "\n",
    "fig.update_layout(\n",
    "    autosize=False,\n",
    "    width=w,\n",
    "    height=h,\n",
    ")\n",
    "\n",
    "\n",
    "fig.show()"
   ]
  }
 ],
 "metadata": {
  "kernelspec": {
   "display_name": "venv",
   "language": "python",
   "name": "venv"
  },
  "language_info": {
   "codemirror_mode": {
    "name": "ipython",
    "version": 3
   },
   "file_extension": ".py",
   "mimetype": "text/x-python",
   "name": "python",
   "nbconvert_exporter": "python",
   "pygments_lexer": "ipython3",
   "version": "3.8.5"
  }
 },
 "nbformat": 4,
 "nbformat_minor": 4
}
