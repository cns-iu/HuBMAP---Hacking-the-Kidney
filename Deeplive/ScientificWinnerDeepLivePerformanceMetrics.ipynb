{
 "cells": [
  {
   "cell_type": "code",
   "execution_count": null,
   "id": "surprising-characterization",
   "metadata": {},
   "outputs": [],
   "source": []
  },
  {
   "cell_type": "code",
   "execution_count": 10,
   "id": "distant-large",
   "metadata": {},
   "outputs": [],
   "source": [
    "import os\n",
    "import gc\n",
    "import sys\n",
    "import cv2\n",
    "import json\n",
    "import glob\n",
    "import torch\n",
    "import random\n",
    "import rasterio\n",
    "import numpy as np\n",
    "import pandas as pd\n",
    "\n",
    "from tqdm.notebook import tqdm\n",
    "from collections import Counter\n",
    "from rasterio.windows import Window\n",
    "from matplotlib import pyplot as plt\n",
    "from sklearn.metrics import jaccard_score\n",
    "from scipy.spatial.distance import directed_hausdorff\n",
    "from torch.utils.data import DataLoader, Dataset"
   ]
  },
  {
   "cell_type": "code",
   "execution_count": 11,
   "id": "alive-japan",
   "metadata": {},
   "outputs": [],
   "source": [
    "def rle_encode_less_memory(img):\n",
    "    pixels = img.T.flatten()\n",
    "    pixels[0] = 0\n",
    "    pixels[-1] = 0\n",
    "    runs = np.where(pixels[1:] != pixels[:-1])[0] + 2\n",
    "    runs[1::2] -= runs[::2]\n",
    "    return ' '.join(str(x) for x in runs)\n",
    "\n",
    "def enc2mask(encs, shape):\n",
    "    img = np.zeros(shape[0] * shape[1], dtype=np.uint8)\n",
    "    for m, enc in enumerate(encs):\n",
    "        if isinstance(enc, np.float) and np.isnan(enc):\n",
    "            continue\n",
    "        enc_split = enc.split()\n",
    "        for i in range(len(enc_split) // 2):\n",
    "            start = int(enc_split[2 * i]) - 1\n",
    "            length = int(enc_split[2 * i + 1])\n",
    "            img[start: start + length] = 1 + m\n",
    "\n",
    "    return img.reshape(shape).T"
   ]
  },
  {
   "cell_type": "code",
   "execution_count": 12,
   "id": "dated-growing",
   "metadata": {},
   "outputs": [],
   "source": [
    "def dice_scores_img(pred, truth, eps=1e-8):\n",
    "    \"\"\"\n",
    "    Dice metric for a single image as array.\n",
    "\n",
    "    Args:\n",
    "        pred (np array): Predictions.\n",
    "        truth (np array): Ground truths.\n",
    "        eps (float, optional): epsilon to avoid dividing by 0. Defaults to 1e-8.\n",
    "\n",
    "    Returns:\n",
    "        np array : dice value for each class\n",
    "    \"\"\"\n",
    "    pred = pred.reshape(-1) > 0\n",
    "    truth = truth.reshape(-1) > 0\n",
    "    intersect = (pred & truth).sum(-1)\n",
    "    union = pred.sum(-1) + truth.sum(-1)\n",
    "\n",
    "    dice = (2.0 * intersect + eps) / (union + eps)\n",
    "    return dice"
   ]
  },
  {
   "cell_type": "code",
   "execution_count": 13,
   "id": "loved-thompson",
   "metadata": {},
   "outputs": [],
   "source": [
    "DATA_PATH = r'C:/Users/soodn/Downloads/Naveksha/Kaggle HuBMAP/'\n",
    "df = pd.read_csv('submission-deeplive.csv')\n",
    "rles = pd.read_csv(DATA_PATH + 'Data/hubmap-kidney-segmentation-data/test.csv')\n",
    "df_info = pd.read_csv(DATA_PATH + 'Data/hubmap-kidney-segmentation-data/HuBMAP-20-dataset_information.csv')"
   ]
  },
  {
   "cell_type": "code",
   "execution_count": 14,
   "id": "personalized-municipality",
   "metadata": {},
   "outputs": [],
   "source": [
    "path_test = r'C:\\Users\\soodn\\Downloads\\Naveksha\\Kaggle HuBMAP\\Data\\hubmap-kidney-segmentation-data\\test'"
   ]
  },
  {
   "cell_type": "code",
   "execution_count": 15,
   "id": "built-cookie",
   "metadata": {},
   "outputs": [
    {
     "data": {
      "text/plain": [
       "(          id                                           encoding\n",
       " 0  2ec3f1bb9  60954223 34 60978180 69 61002168 74 61026156 7...\n",
       " 1  3589adb90  68629509 19 68658940 53 68688371 72 68717803 7...\n",
       " 2  d488c759a  534577255 4 534577263 5 534623911 19 534670566...\n",
       " 3  aa05346ff  52826001 14 52856696 41 52887402 59 52918120 6...\n",
       " 4  57512b7f1  329085519 25 329118756 31 329151993 37 3291852...,\n",
       "           id                                          predicted\n",
       " 0  2ec3f1bb9  60762303 28 60786293 28 60810269 54 60834259 5...\n",
       " 1  3589adb90  68658983 26 68688416 26 68717813 70 68747246 7...\n",
       " 2  d488c759a  537656743 8 537703403 8 537750059 14 537796719...\n",
       " 3  aa05346ff  52918127 38 52948847 38 52979557 58 53010277 5...\n",
       " 4  57512b7f1  329085513 30 329118753 30 329151987 50 3291852...)"
      ]
     },
     "execution_count": 15,
     "metadata": {},
     "output_type": "execute_result"
    }
   ],
   "source": [
    "rles, df"
   ]
  },
  {
   "cell_type": "code",
   "execution_count": 16,
   "id": "military-stable",
   "metadata": {},
   "outputs": [],
   "source": [
    "def perf_metrics(gt, pred):\n",
    "    n = 0\n",
    "    d = 0\n",
    "    for i in range(gt.shape[0]):\n",
    "        for j in range (gt.shape[1]):\n",
    "            if (gt[i][j]==pred[i][j]):\n",
    "                n = n+1\n",
    "            d = d+1\n",
    "    \n",
    "    return n/d, jaccard_score(gt.flatten(order='C'), pred.flatten(order='C')), directed_hausdorff(gt, pred)"
   ]
  },
  {
   "cell_type": "code",
   "execution_count": 17,
   "id": "hairy-summary",
   "metadata": {},
   "outputs": [
    {
     "data": {
      "text/html": [
       "<div>\n",
       "<style scoped>\n",
       "    .dataframe tbody tr th:only-of-type {\n",
       "        vertical-align: middle;\n",
       "    }\n",
       "\n",
       "    .dataframe tbody tr th {\n",
       "        vertical-align: top;\n",
       "    }\n",
       "\n",
       "    .dataframe thead th {\n",
       "        text-align: right;\n",
       "    }\n",
       "</style>\n",
       "<table border=\"1\" class=\"dataframe\">\n",
       "  <thead>\n",
       "    <tr style=\"text-align: right;\">\n",
       "      <th></th>\n",
       "      <th>id</th>\n",
       "      <th>predicted</th>\n",
       "    </tr>\n",
       "  </thead>\n",
       "  <tbody>\n",
       "    <tr>\n",
       "      <th>0</th>\n",
       "      <td>2ec3f1bb9</td>\n",
       "      <td>60762303 28 60786293 28 60810269 54 60834259 5...</td>\n",
       "    </tr>\n",
       "    <tr>\n",
       "      <th>1</th>\n",
       "      <td>3589adb90</td>\n",
       "      <td>68658983 26 68688416 26 68717813 70 68747246 7...</td>\n",
       "    </tr>\n",
       "    <tr>\n",
       "      <th>2</th>\n",
       "      <td>d488c759a</td>\n",
       "      <td>537656743 8 537703403 8 537750059 14 537796719...</td>\n",
       "    </tr>\n",
       "    <tr>\n",
       "      <th>3</th>\n",
       "      <td>aa05346ff</td>\n",
       "      <td>52918127 38 52948847 38 52979557 58 53010277 5...</td>\n",
       "    </tr>\n",
       "    <tr>\n",
       "      <th>4</th>\n",
       "      <td>57512b7f1</td>\n",
       "      <td>329085513 30 329118753 30 329151987 50 3291852...</td>\n",
       "    </tr>\n",
       "  </tbody>\n",
       "</table>\n",
       "</div>"
      ],
      "text/plain": [
       "          id                                          predicted\n",
       "0  2ec3f1bb9  60762303 28 60786293 28 60810269 54 60834259 5...\n",
       "1  3589adb90  68658983 26 68688416 26 68717813 70 68747246 7...\n",
       "2  d488c759a  537656743 8 537703403 8 537750059 14 537796719...\n",
       "3  aa05346ff  52918127 38 52948847 38 52979557 58 53010277 5...\n",
       "4  57512b7f1  329085513 30 329118753 30 329151987 50 3291852..."
      ]
     },
     "execution_count": 17,
     "metadata": {},
     "output_type": "execute_result"
    }
   ],
   "source": [
    "df"
   ]
  },
  {
   "cell_type": "code",
   "execution_count": 18,
   "id": "mechanical-display",
   "metadata": {},
   "outputs": [],
   "source": [
    "DEBUG = False\n",
    "sum_score = 0\n",
    "sum_pa = 0\n",
    "sum_ji = 0\n",
    "sum_haus = 0\n",
    "\n",
    "for img in rles['id'].unique():\n",
    "    shape = df_info[df_info.image_file == img + \".tiff\"][['width_pixels', 'height_pixels']].values.astype(int)[0]\n",
    "    truth = rles[rles['id'] == img]['encoding']\n",
    "    mask_truth = enc2mask(truth, shape)\n",
    "    pred = df[df['id'] == img]['predicted']\n",
    "    mask_pred = enc2mask(pred, shape)\n",
    "    score = dice_scores_img(mask_pred, mask_truth)\n",
    "    pa, ji, haus = perf_metrics(mask_pred, mask_truth)    \n",
    "    sum_score += score\n",
    "    sum_pa += pa\n",
    "    sum_ji += ji\n",
    "    sum_haus += haus[0]"
   ]
  },
  {
   "cell_type": "code",
   "execution_count": 19,
   "id": "pediatric-following",
   "metadata": {},
   "outputs": [
    {
     "data": {
      "text/plain": [
       "(0.9978311925238129,\n",
       " 0.8651603636718331,\n",
       " 23.034991353466427,\n",
       " 0.9258956636996538)"
      ]
     },
     "execution_count": 19,
     "metadata": {},
     "output_type": "execute_result"
    }
   ],
   "source": [
    "sum_pa/5, sum_ji/5, sum_haus/5, sum_score/5"
   ]
  },
  {
   "cell_type": "code",
   "execution_count": null,
   "id": "material-summit",
   "metadata": {},
   "outputs": [],
   "source": []
  }
 ],
 "metadata": {
  "kernelspec": {
   "display_name": "Python 3",
   "language": "python",
   "name": "python3"
  },
  "language_info": {
   "codemirror_mode": {
    "name": "ipython",
    "version": 3
   },
   "file_extension": ".py",
   "mimetype": "text/x-python",
   "name": "python",
   "nbconvert_exporter": "python",
   "pygments_lexer": "ipython3",
   "version": "3.8.8"
  }
 },
 "nbformat": 4,
 "nbformat_minor": 5
}
