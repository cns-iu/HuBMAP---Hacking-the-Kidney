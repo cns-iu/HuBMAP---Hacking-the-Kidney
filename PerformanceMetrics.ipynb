{
 "cells": [
  {
   "cell_type": "markdown",
   "id": "electric-diesel",
   "metadata": {},
   "source": [
    "# HubMap- Hacking the Kidney\n",
    "#### Goal - Mapping the human body at functional tissue unit level - detect glomeruli FTUs in kidney\n",
    "\n",
    "#### Calculating the performance metrics for Whats Goin On team's model\n",
    "\n",
    "##### Step 1 - Import useful libraries"
   ]
  },
  {
   "cell_type": "code",
   "execution_count": 25,
   "id": "distant-large",
   "metadata": {},
   "outputs": [],
   "source": [
    "import numpy as np\n",
    "import pandas as pd\n",
    "from sklearn.metrics import jaccard_score\n",
    "from scipy.spatial.distance import directed_hausdorff"
   ]
  },
  {
   "cell_type": "code",
   "execution_count": 26,
   "id": "loved-thompson",
   "metadata": {},
   "outputs": [],
   "source": [
    "DATA_PATH = r'C:/Users/soodn/Downloads/Naveksha/Kaggle HuBMAP/'\n",
    "# Read rle prediction table (submission.csv) as df\n",
    "df = pd.read_csv('submission-wgo.csv')\n",
    "# Read ground truth rles as rles\n",
    "rles = pd.read_csv(DATA_PATH + 'Data/hubmap-kidney-segmentation-data/test.csv')\n",
    "# Read information dataframe for input height and width\n",
    "df_info = pd.read_csv(DATA_PATH + 'Data/hubmap-kidney-segmentation-data/HuBMAP-20-dataset_information.csv')"
   ]
  },
  {
   "cell_type": "markdown",
   "id": "developed-sheriff",
   "metadata": {},
   "source": [
    "##### Step 2 - Write utility functions"
   ]
  },
  {
   "cell_type": "code",
   "execution_count": 29,
   "id": "dated-growing",
   "metadata": {},
   "outputs": [],
   "source": [
    "def dice_scores_img(pred, truth, eps=1e-8):\n",
    "    pred = pred.reshape(-1) > 0\n",
    "    truth = truth.reshape(-1) > 0\n",
    "    intersect = (pred & truth).sum(-1)\n",
    "    union = pred.sum(-1) + truth.sum(-1)\n",
    "\n",
    "    dice = (2.0 * intersect + eps) / (union + eps)\n",
    "    return dice"
   ]
  },
  {
   "cell_type": "code",
   "execution_count": 30,
   "id": "military-stable",
   "metadata": {},
   "outputs": [],
   "source": [
    "def perf_metrics(gt, pred):\n",
    "    n = 0\n",
    "    d = 0\n",
    "    for i in range(gt.shape[0]):\n",
    "        for j in range (gt.shape[1]):\n",
    "            if (gt[i][j]==pred[i][j]):\n",
    "                n = n+1\n",
    "            d = d+1\n",
    "    \n",
    "    return n/d, jaccard_score(gt.flatten(order='C'), pred.flatten(order='C')), directed_hausdorff(gt, pred)"
   ]
  },
  {
   "cell_type": "code",
   "execution_count": 104,
   "id": "alive-japan",
   "metadata": {},
   "outputs": [],
   "source": [
    "def rle_encode_less_memory(img):\n",
    "    pixels = img.T.flatten()\n",
    "    pixels[0] = 0\n",
    "    pixels[-1] = 0\n",
    "    runs = np.where(pixels[1:] != pixels[:-1])[0] + 2\n",
    "    runs[1::2] -= runs[::2]\n",
    "    return ' '.join(str(x) for x in runs)\n",
    "\n",
    "def enc2mask(encs, shape):\n",
    "    img = np.zeros(shape[0] * shape[1], dtype=np.uint8)\n",
    "    for m, enc in enumerate(encs):\n",
    "        if isinstance(enc, np.float) and np.isnan(enc):\n",
    "            continue\n",
    "        enc_split = enc.split()\n",
    "        for i in range(len(enc_split) // 2):\n",
    "            start = int(enc_split[2 * i]) - 1\n",
    "            length = int(enc_split[2 * i + 1])\n",
    "            img[start: start + length] = 1 + m\n",
    "\n",
    "    return img.reshape(shape).T"
   ]
  },
  {
   "cell_type": "code",
   "execution_count": 111,
   "id": "humanitarian-collaboration",
   "metadata": {},
   "outputs": [],
   "source": [
    "def read_mask(mask_file, mask_shape):\n",
    "    read_file = open(mask_file, \"r\", encoding='utf-8') \n",
    "    mask_data = json.load(read_file)\n",
    "    polys = []\n",
    "    for index in range(mask_data.__len__()):\n",
    "        geom = np.array(mask_data[index]['geometry']['coordinates'], dtype=np.int32)\n",
    "        polys.append(geom)\n",
    "\n",
    "    mask = np.zeros(mask_shape)\n",
    "    cv2.fillPoly(mask, polys, 1)\n",
    "    mask = mask.astype(bool)\n",
    "    return mask"
   ]
  },
  {
   "cell_type": "markdown",
   "id": "arabic-nowhere",
   "metadata": {},
   "source": [
    "##### Step 3 - Calculate mean metrics values for test images "
   ]
  },
  {
   "cell_type": "code",
   "execution_count": null,
   "id": "mechanical-display",
   "metadata": {},
   "outputs": [
    {
     "name": "stdout",
     "output_type": "stream",
     "text": [
      "<class 'list'> 399 [[[26499  2968]\n",
      "  [26459  2976]\n",
      "  [26427  3007]\n",
      "  [26413  3047]\n",
      "  [26414  3099]\n",
      "  [26436  3141]\n",
      "  [26468  3171]\n",
      "  [26522  3193]\n",
      "  [26567  3193]\n",
      "  [26601  3177]\n",
      "  [26625  3120]\n",
      "  [26623  3078]\n",
      "  [26601  3024]\n",
      "  [26543  2976]\n",
      "  [26499  2968]]]\n"
     ]
    },
    {
     "data": {
      "image/png": "[encoded data removed]",
      "text/plain": [
       "<Figure size 432x288 with 1 Axes>"
      ]
     },
     "metadata": {
      "needs_background": "light"
     },
     "output_type": "display_data"
    },
    {
     "data": {
      "image/png": "[encoded data removed]",
      "text/plain": [
       "<Figure size 432x288 with 1 Axes>"
      ]
     },
     "metadata": {
      "needs_background": "light"
     },
     "output_type": "display_data"
    },
    {
     "name": "stdout",
     "output_type": "stream",
     "text": [
      "<class 'list'> 239 [[[ 3163 21523]\n",
      "  [ 3094 21530]\n",
      "  [ 3091 21532]\n",
      "  [ 3091 21534]\n",
      "  [ 3089 21536]\n",
      "  [ 3088 21538]\n",
      "  [ 3087 21539]\n",
      "  [ 3085 21541]\n",
      "  [ 3085 21542]\n",
      "  [ 3084 21544]\n",
      "  [ 3083 21546]\n",
      "  [ 3080 21555]\n",
      "  [ 3078 21561]\n",
      "  [ 3077 21561]\n",
      "  [ 3077 21568]\n",
      "  [ 3077 21570]\n",
      "  [ 3077 21571]\n",
      "  [ 3076 21572]\n",
      "  [ 3076 21574]\n",
      "  [ 3075 21574]\n",
      "  [ 3076 21575]\n",
      "  [ 3076 21578]\n",
      "  [ 3075 21580]\n",
      "  [ 3075 21581]\n",
      "  [ 3075 21582]\n",
      "  [ 3075 21583]\n",
      "  [ 3074 21585]\n",
      "  [ 3074 21586]\n",
      "  [ 3074 21587]\n",
      "  [ 3074 21588]\n",
      "  [ 3074 21591]\n",
      "  [ 3074 21596]\n",
      "  [ 3073 21598]\n",
      "  [ 3073 21599]\n",
      "  [ 3073 21600]\n",
      "  [ 3073 21601]\n",
      "  [ 3073 21604]\n",
      "  [ 3073 21607]\n",
      "  [ 3073 21610]\n",
      "  [ 3073 21613]\n",
      "  [ 3073 21616]\n",
      "  [ 3073 21619]\n",
      "  [ 3073 21622]\n",
      "  [ 3073 21626]\n",
      "  [ 3073 21629]\n",
      "  [ 3073 21630]\n",
      "  [ 3073 21631]\n",
      "  [ 3073 21632]\n",
      "  [ 3074 21634]\n",
      "  [ 3074 21637]\n",
      "  [ 3074 21641]\n",
      "  [ 3074 21645]\n",
      "  [ 3074 21650]\n",
      "  [ 3074 21655]\n",
      "  [ 3074 21658]\n",
      "  [ 3074 21659]\n",
      "  [ 3074 21660]\n",
      "  [ 3074 21661]\n",
      "  [ 3075 21663]\n",
      "  [ 3075 21669]\n",
      "  [ 3074 21669]\n",
      "  [ 3075 21670]\n",
      "  [ 3075 21671]\n",
      "  [ 3148 21746]\n",
      "  [ 3211 21755]\n",
      "  [ 3268 21739]\n",
      "  [ 3290 21697]\n",
      "  [ 3280 21625]\n",
      "  [ 3163 21523]]]\n"
     ]
    },
    {
     "data": {
      "image/png": "[encoded data removed]",
      "text/plain": [
       "<Figure size 432x288 with 1 Axes>"
      ]
     },
     "metadata": {
      "needs_background": "light"
     },
     "output_type": "display_data"
    }
   ],
   "source": [
    "import json\n",
    "import cv2\n",
    "import matplotlib.pyplot as plt\n",
    "from PIL import Image\n",
    "sum_score = 0\n",
    "sum_pa = 0\n",
    "sum_ji = 0\n",
    "sum_haus = 0\n",
    "\n",
    "for img in rles['id'].unique():\n",
    "    shape = df_info[df_info.image_file == img + \".tiff\"][['width_pixels', 'height_pixels']].values.astype(int)[0]\n",
    "    mt = read_mask(path_test+img+'.json', (shape[1], shape[0]))\n",
    "    mask_truth = 1*mt\n",
    "    rle_truth = rles[rles['id'] == img][\"encoding\"]\n",
    "    mask_truth_rle = enc2mask(rle_truth, shape)\n",
    "    plt.imshow(mask_truth_rle, cmap=\"gray\") \n",
    "    plt.show()\n",
    "\n",
    "    pred = df[df['id'] == img]['predicted']\n",
    "    mask_pred = enc2mask(pred, shape)  \n",
    "    plt.imshow(mask_pred, cmap=\"gray\") \n",
    "    plt.show()\n",
    "    \n",
    "#     print (mask_truth.shape, mask_truth_rle.shape)\n",
    "#     print (np.sum(mask_truth != mask_truth_rle))\n",
    "#     print (mask_truth, mask_truth_rle)\n",
    "#     score = dice_scores_img(mask_pred, mask_truth_rle)\n",
    "#     pa, ji, haus = perf_metrics(mask_pred, mask_truth)\n",
    "#     print (score)\n",
    "#     print (score,pa,ji,haus)\n",
    "    \n",
    "#     sum_score += score\n",
    "#     sum_pa += pa\n",
    "#     sum_ji += ji\n",
    "#     sum_haus += haus[0]"
   ]
  },
  {
   "cell_type": "code",
   "execution_count": null,
   "id": "material-summit",
   "metadata": {},
   "outputs": [],
   "source": []
  }
 ],
 "metadata": {
  "kernelspec": {
   "display_name": "Python 3",
   "language": "python",
   "name": "python3"
  },
  "language_info": {
   "codemirror_mode": {
    "name": "ipython",
    "version": 3
   },
   "file_extension": ".py",
   "mimetype": "text/x-python",
   "name": "python",
   "nbconvert_exporter": "python",
   "pygments_lexer": "ipython3",
   "version": "3.8.8"
  }
 },
 "nbformat": 4,
 "nbformat_minor": 5
}
