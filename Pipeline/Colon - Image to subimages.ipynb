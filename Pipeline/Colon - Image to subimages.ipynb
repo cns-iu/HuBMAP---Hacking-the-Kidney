{
 "cells": [
  {
   "cell_type": "markdown",
   "id": "empirical-buying",
   "metadata": {},
   "source": [
    "# HubMap- Hacking the Kidney\n",
    "#### Goal - Mapping the human body at function tissue unit level - detect glomeruli FTUs in kidney\n",
    "\n",
    "#### Converting the colon images to its four constituent slides\n",
    "\n",
    "###### Step 1 - Install useful libraries"
   ]
  },
  {
   "cell_type": "code",
   "execution_count": 2,
   "id": "necessary-index",
   "metadata": {
    "scrolled": false
   },
   "outputs": [],
   "source": [
    "import cv2\n",
    "import json\n",
    "import os\n",
    "import numpy as np\n",
    "import matplotlib.pyplot as plt\n",
    "import seaborn as sns\n",
    "import pandas as pd\n",
    "import shutil\n",
    "import tensorflow as tf\n",
    "import glob\n",
    "import tifffile\n",
    "import gc\n",
    "import imageio\n",
    "from PIL import Image"
   ]
  },
  {
   "cell_type": "markdown",
   "id": "laden-bubble",
   "metadata": {},
   "source": [
    "##### Step 2 - Get a look and feel of data"
   ]
  },
  {
   "cell_type": "code",
   "execution_count": 3,
   "id": "controlling-result",
   "metadata": {
    "scrolled": false
   },
   "outputs": [],
   "source": [
    "basepath = r'C:\\Users\\soodn\\Downloads\\Naveksha\\Kaggle HuBMAP\\Data\\hubmap_colon_data'"
   ]
  },
  {
   "cell_type": "markdown",
   "id": "meaning-affair",
   "metadata": {},
   "source": [
    "##### Step 3 - Read each .tiff file and see its shape"
   ]
  },
  {
   "cell_type": "code",
   "execution_count": 4,
   "id": "noted-computer",
   "metadata": {
    "scrolled": false
   },
   "outputs": [
    {
     "name": "stdout",
     "output_type": "stream",
     "text": [
      "['C:\\\\Users\\\\soodn\\\\Downloads\\\\Naveksha\\\\Kaggle HuBMAP\\\\Data\\\\hubmap_colon_data/tif images\\\\CL_HandE_1234_B004.tif', 'C:\\\\Users\\\\soodn\\\\Downloads\\\\Naveksha\\\\Kaggle HuBMAP\\\\Data\\\\hubmap_colon_data/tif images\\\\HandE_B005_CL_b_RGB.tif']\n"
     ]
    },
    {
     "name": "stderr",
     "output_type": "stream",
     "text": [
      "TiffPage 0: TypeError: read_bytes() missing 3 required positional arguments: 'dtype', 'count', and 'offsetsize'\n"
     ]
    },
    {
     "name": "stdout",
     "output_type": "stream",
     "text": [
      "img id = C:\\Users\\soodn\\Downloads\\Naveksha\\Kaggle HuBMAP\\Data\\hubmap_colon_data/tif images\\CL_HandE_1234_B004.tif, shape = (3, 9072, 9408)\n",
      "img id = C:\\Users\\soodn\\Downloads\\Naveksha\\Kaggle HuBMAP\\Data\\hubmap_colon_data/tif images\\HandE_B005_CL_b_RGB.tif, shape = (9072, 9408, 3)\n"
     ]
    }
   ],
   "source": [
    "def verify_read(file_list):\n",
    "    for file_name in file_list:\n",
    "        baseimage = tifffile.imread(file_name)\n",
    "        print('img id = {}, shape = {}'.format(file_name,baseimage.shape))\n",
    "        gc.collect()\n",
    "        \n",
    "file_list = glob.glob(basepath+'/tif images/*.tif')\n",
    "print (file_list)\n",
    "verify_read(file_list)"
   ]
  },
  {
   "cell_type": "markdown",
   "id": "focal-dining",
   "metadata": {},
   "source": [
    "##### Step 4 - Read one image and corresponding mask, visualize it, swap the axis if required."
   ]
  },
  {
   "cell_type": "code",
   "execution_count": 5,
   "id": "plain-neighbor",
   "metadata": {},
   "outputs": [],
   "source": [
    "def read_mask(mask_file, mask_shape):\n",
    "    read_file = open(mask_file, \"r\", encoding='utf-8') \n",
    "    mask_data = json.load(read_file)\n",
    "    polys = []\n",
    "    for index in range(mask_data.__len__()):\n",
    "        geom = np.array(mask_data[index]['geometry']['coordinates'], dtype=np.int32)\n",
    "        polys.append(geom)\n",
    "\n",
    "    mask = np.zeros(mask_shape)\n",
    "    cv2.fillPoly(mask, polys, 1)\n",
    "    mask = mask.astype(bool)\n",
    "    return mask"
   ]
  },
  {
   "cell_type": "code",
   "execution_count": 15,
   "id": "attended-citation",
   "metadata": {},
   "outputs": [
    {
     "name": "stdout",
     "output_type": "stream",
     "text": [
      "Original image shape (3, 9072, 9408)\n",
      "(3, 9072, 9408)\n",
      "Swaped shape (9072, 9408, 3)\n"
     ]
    },
    {
     "name": "stderr",
     "output_type": "stream",
     "text": [
      "TiffPage 0: TypeError: read_bytes() missing 3 required positional arguments: 'dtype', 'count', and 'offsetsize'\n"
     ]
    },
    {
     "name": "stdout",
     "output_type": "stream",
     "text": [
      "Original image shape (9072, 9408, 3)\n",
      "(9072, 9408, 3)\n"
     ]
    }
   ],
   "source": [
    "image_ids = ['CL_HandE_1234_B004', 'HandE_B005_CL_b_RGB']\n",
    "for image, file in zip (image_ids, file_list):\n",
    "    working_image_id = file\n",
    "    baseimage = tifffile.imread(working_image_id)\n",
    "    print ('Original image shape', baseimage.shape)\n",
    "    baseimage = np.squeeze(baseimage)\n",
    "    print (baseimage.shape)\n",
    "    if( baseimage.shape[0] == 3):\n",
    "        baseimage = baseimage.swapaxes(0,1)\n",
    "        baseimage = baseimage.swapaxes(1,2)\n",
    "        print ('Swaped shape',baseimage.shape)\n",
    "    \n",
    "    # Divide the colon image into its 4 constituent slides\n",
    "    top_left = Image.fromarray(baseimage[0:4536, 0:4704], 'RGB')\n",
    "    top_left.save('OutputColon/'+image+'_topleft.tif')\n",
    "    top_right = Image.fromarray(baseimage[4536:, 0:4704], 'RGB')\n",
    "    top_right.save('OutputColon/'+image+'_topright.tif')\n",
    "    bottom_left = Image.fromarray(baseimage[0:4536, 4704:], 'RGB')\n",
    "    bottom_left.save('OutputColon/'+image+'_bottomleft.tif')\n",
    "    bottom_right = Image.fromarray(baseimage[4536:, 4704:], 'RGB')\n",
    "    bottom_right.save('OutputColon/'+image+'_bottomright.tif')\n",
    "    \n",
    "    working_image_json_mask = basepath+'/Annotations/json/'+image+'_annotations.json'\n",
    "    read_file = open(working_image_json_mask, \"r\")\n",
    "    mask_data = json.load(read_file)    \n",
    "    mask_shape = (baseimage.shape[0], baseimage.shape[1])\n",
    "    mask_bool = read_mask(working_image_json_mask, mask_shape)\n",
    "    mask = mask_bool*1\n",
    "    \n",
    "    imageio.imwrite('OutputColon/'+image+'_mask_topleft.tif', mask[0:4536, 0:4704])\n",
    "    top_right_mask = Image.fromarray(mask[4536:, 0:4704], 'RGB')\n",
    "    top_right_mask.save('OutputColon/'+image+'_mask_topright.tif')\n",
    "    bottom_left_mask = Image.fromarray(mask[0:4536, 4704:], 'RGB')\n",
    "    bottom_left_mask.save('OutputColon/'+image+'_mask_bottomleft.tif')\n",
    "    bottom_right_mask = Image.fromarray(mask[4536:, 4704:], 'RGB')\n",
    "    bottom_right_mask.save('OutputColon/'+image+'_mask_bottomright.tif')\n",
    "    "
   ]
  },
  {
   "cell_type": "markdown",
   "id": "infrared-graphic",
   "metadata": {},
   "source": [
    "# Stop here!! \n",
    "### One of the colon images did not get divided properly and masks did not show up from this method and captured some additional artifacts in the subslides. Hence, we further obtain the sub-slides directly from the QuPath, and work on that. "
   ]
  },
  {
   "cell_type": "code",
   "execution_count": null,
   "id": "funky-amsterdam",
   "metadata": {},
   "outputs": [],
   "source": []
  }
 ],
 "metadata": {
  "kernelspec": {
   "display_name": "Python 3",
   "language": "python",
   "name": "python3"
  },
  "language_info": {
   "codemirror_mode": {
    "name": "ipython",
    "version": 3
   },
   "file_extension": ".py",
   "mimetype": "text/x-python",
   "name": "python",
   "nbconvert_exporter": "python",
   "pygments_lexer": "ipython3",
   "version": "3.8.8"
  }
 },
 "nbformat": 4,
 "nbformat_minor": 5
}
