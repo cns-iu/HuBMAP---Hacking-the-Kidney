{
 "cells": [
  {
   "cell_type": "code",
   "execution_count": 2,
   "id": "00839ba0",
   "metadata": {},
   "outputs": [],
   "source": [
    "# Import the libraries\n",
    "import numpy as np\n",
    "import pandas as pd\n",
    "from skimage import measure\n",
    "import matplotlib.pyplot as plt\n",
    "from shapely.geometry import Polygon"
   ]
  },
  {
   "cell_type": "code",
   "execution_count": 3,
   "id": "f9caa15a",
   "metadata": {},
   "outputs": [],
   "source": [
    "# Read the GT RLE and meta data ***** Colon Data *****\n",
    "ground_truth_rle = pd.read_csv(r'C:\\Users\\soodn\\Downloads\\Naveksha\\Kaggle HuBMAP\\Data\\colon-data-reprocessed\\test.csv')\n",
    "df_info = pd.read_csv(r'C:\\Users\\soodn\\Downloads\\Naveksha\\Kaggle HuBMAP\\Data\\colon-data-reprocessed\\HuBMAP-20-dataset_information.csv')"
   ]
  },
  {
   "cell_type": "code",
   "execution_count": 4,
   "id": "b0e05d5c",
   "metadata": {},
   "outputs": [],
   "source": [
    "# Read the GT RLE and meta data ***** Kidney Data *****\n",
    "ground_truth_rle = pd.read_csv(r'C:\\Users\\soodn\\Downloads\\Naveksha\\Kaggle HuBMAP\\Data\\kidney-data\\test.csv')\n",
    "df_info = pd.read_csv(r'C:\\Users\\soodn\\Downloads\\Naveksha\\Kaggle HuBMAP\\Data\\kidney-data\\HuBMAP-20-dataset_information.csv')"
   ]
  },
  {
   "cell_type": "code",
   "execution_count": 5,
   "id": "089a34da",
   "metadata": {},
   "outputs": [],
   "source": [
    "# Read PREDICTED RLE\n",
    "predicted_rle = pd.read_csv(r'C:\\Users\\soodn\\Downloads\\Naveksha\\Kaggle HuBMAP\\Scripts\\4. DeepLive\\submission-deeplive.csv')"
   ]
  },
  {
   "cell_type": "code",
   "execution_count": 6,
   "id": "5cb69fcb",
   "metadata": {},
   "outputs": [],
   "source": [
    "# Utility function to convert rle to mask\n",
    "def enc2mask(encs, shape):\n",
    "    img = np.zeros(shape[0] * shape[1], dtype=np.uint8)\n",
    "    for m, enc in enumerate(encs):\n",
    "        print (m, encs)\n",
    "        if isinstance(enc, np.float) and np.isnan(enc):\n",
    "            continue\n",
    "        enc_split = enc.split()\n",
    "        for i in range(len(enc_split) // 2):\n",
    "            start = int(enc_split[2 * i]) - 1\n",
    "            length = int(enc_split[2 * i + 1])\n",
    "            img[start: start + length] = 1 + m\n",
    "\n",
    "    return img.reshape(shape).T"
   ]
  },
  {
   "cell_type": "code",
   "execution_count": 8,
   "id": "2eea59f7",
   "metadata": {},
   "outputs": [],
   "source": [
    "# Function to make a 3D list of mask\n",
    "def polygon_outline_list (gt_mask, pred_mask):\n",
    "    contours_gt = measure.find_contours(gt_mask, 0.8)\n",
    "    polygons_gt = []\n",
    "    for object in contours_gt:\n",
    "        coords = []\n",
    "        for point in object:\n",
    "            coords.append([int(point[0]), int(point[1])])\n",
    "        polygons_gt.append(coords)\n",
    "\n",
    "    contours_pred = measure.find_contours(pred_mask, 0.8)\n",
    "    polygons_pred = []\n",
    "    for object in contours_pred:\n",
    "        coords = []\n",
    "        for point in object:\n",
    "            coords.append([int(point[0]), int(point[1])])\n",
    "        polygons_pred.append(coords)\n",
    "    return polygons_gt, polygons_pred"
   ]
  },
  {
   "cell_type": "code",
   "execution_count": 12,
   "id": "206d95da",
   "metadata": {},
   "outputs": [],
   "source": [
    "# Function to count the missed gloms,FNs and FPs\n",
    "def find_missed(polygons_l1, polygons_l2, matching_threshold):\n",
    "    mt = matching_threshold\n",
    "    ## Using shapely\n",
    "    count = 0\n",
    "    for poly_1 in polygons_l1:\n",
    "        for poly_2 in polygons_l2:\n",
    "            p = Polygon(poly_1)\n",
    "            q = Polygon(poly_2)\n",
    "            if (p.intersection(q).area / p.area >=matching_threshold):\n",
    "                count += 1\n",
    "    return count"
   ]
  },
  {
   "cell_type": "code",
   "execution_count": null,
   "id": "5379b917",
   "metadata": {
    "scrolled": false
   },
   "outputs": [
    {
     "name": "stdout",
     "output_type": "stream",
     "text": [
      "0 0    60954223 34 60978180 69 61002168 74 61026156 7...\n",
      "Name: encoding, dtype: object\n"
     ]
    },
    {
     "name": "stderr",
     "output_type": "stream",
     "text": [
      "<ipython-input-6-ed672ee9e710>:6: DeprecationWarning: `np.float` is a deprecated alias for the builtin `float`. To silence this warning, use `float` by itself. Doing this will not modify any behavior and is safe. If you specifically wanted the numpy scalar type, use `np.float64` here.\n",
      "Deprecated in NumPy 1.20; for more details and guidance: https://numpy.org/devdocs/release/1.20.0-notes.html#deprecations\n",
      "  if isinstance(enc, np.float) and np.isnan(enc):\n"
     ]
    }
   ],
   "source": [
    "# Find the False positives and false negatives in all the test files \n",
    "for idx, row in ground_truth_rle.iterrows():\n",
    "    IMAGE_ID = ground_truth_rle['id'][idx]\n",
    "\n",
    "    shape = (df_info['width_pixels'][idx], df_info['height_pixels'][idx])\n",
    "\n",
    "    gt_rle = ground_truth_rle[ground_truth_rle['id'] == IMAGE_ID][\"encoding\"]\n",
    "    gt_mask = enc2mask(gt_rle, shape)\n",
    "    plt.imshow(gt_mask)\n",
    "    plt.show()\n",
    "\n",
    "    pred_rle = predicted_rle[predicted_rle['id'] == IMAGE_ID][\"predicted\"]\n",
    "    pred_mask = enc2mask(pred_rle, shape)\n",
    "    plt.imshow(pred_mask)\n",
    "    plt.show()\n",
    "\n",
    "\n",
    "    polygons_gt, polygons_pred = polygon_outline_list (gt_mask, pred_mask)\n",
    "    matching_threshold = 0.8\n",
    "\n",
    "    false_negatives = len(polygons_gt) -  find_missed(polygons_gt, polygons_pred, matching_threshold)\n",
    "    false_positives = len(polygons_pred) - find_missed(polygons_pred, polygons_gt, matching_threshold)\n",
    "\n",
    "    print (f\"For matching threshold = {matching_threshold},\")\n",
    "    print (f\"Of {len(polygons_gt)} number of gloms/cypts in ground truth, {false_negatives} are missed in prediction.\")\n",
    "    print (f\"False Negative Rate = {false_negatives/len(polygons_gt)}\")\n",
    "    print (f\"Of {len(polygons_pred)} number of gloms/crypts in prediction,  {false_positives} aren't there in ground truth.\")\n",
    "    print (f\"False Positive Rate = {false_positives/len(polygons_pred)}\")\n",
    "    print (\"================================================================================\\n\")"
   ]
  },
  {
   "cell_type": "code",
   "execution_count": null,
   "id": "aa6f0100",
   "metadata": {
    "scrolled": true
   },
   "outputs": [],
   "source": [
    "# # match_threshold = 0.8\n",
    "# for poly_gt in polygons_gt: \n",
    "#     for poly_pred in polygons_pred:\n",
    "#         i+=1\n",
    "#         pixel_count = 0\n",
    "#         for coord_gt in poly_gt:\n",
    "#             for coord_pred in poly_pred:\n",
    "#                 if coord_gt == coord_pred:\n",
    "#                     pixel_count += 1\n",
    "#         print (j, i, pixel_count, len(poly_gt), len(poly_pred))\n",
    "#         if pixel_count > 10:\n",
    "#             count += 1\n",
    "#             print (\"*************************\",j,i,\"Matched\")"
   ]
  },
  {
   "cell_type": "code",
   "execution_count": null,
   "id": "bd29a508",
   "metadata": {},
   "outputs": [],
   "source": []
  }
 ],
 "metadata": {
  "kernelspec": {
   "display_name": "Python 3",
   "language": "python",
   "name": "python3"
  },
  "language_info": {
   "codemirror_mode": {
    "name": "ipython",
    "version": 3
   },
   "file_extension": ".py",
   "mimetype": "text/x-python",
   "name": "python",
   "nbconvert_exporter": "python",
   "pygments_lexer": "ipython3",
   "version": "3.8.11"
  }
 },
 "nbformat": 4,
 "nbformat_minor": 5
}
