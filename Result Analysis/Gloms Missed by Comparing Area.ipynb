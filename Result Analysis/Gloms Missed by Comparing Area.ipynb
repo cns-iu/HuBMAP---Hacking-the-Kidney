{
 "cells": [
  {
   "cell_type": "markdown",
   "id": "a7bba48f",
   "metadata": {},
   "source": [
    "## Goal - Count the number of gloms/crypts missed in predicted mask which are there in groundtruth; the number of gloms predicted extra which aren't there in the groundtruth; and the number gloms predicted wrongly. \n",
    "<hr>\n",
    "\n",
    "\n",
    "### Data - \n",
    "1. *Kidney Data* - \n",
    "Kidney data has 5 public test images and 10 private test images. We have 5 such models. ((5+10) * 5 = 75) The experiments need to be replicated for 75 pairs of ground truth and predicted images for kidney data.\n",
    "2. *Colon Data* - \n",
    "Colon data has 2 test images. We have 15 models (1. Kidney model generalized on colon data; 2. Model trained only on colon data; 3. Model trained on both kidney and colon data). (2*15 = 30) The experiments need to be replicated for 30 pairs of ground truth and predicted images for colon data.\n",
    "\n",
    "\n",
    "### Approach 1 - Naive approach - \n",
    "\n",
    "1. Count the number of gloms in ground truth json masks.\n",
    "2. Convert the predicted rle into json format, count the number of gloms in the predicted mask.\n",
    "3. Take the difference between the two.\n",
    "\n",
    "This gives us the difference in number of gloms in the real and predicted mask, but doesn't tell us specifically the number of gloms that were missed, predicted extra or wrongly predicted. We have the code for this ready and tested. (Link - https://github.com/cns-iu/HuBMAP---Hacking-the-Kidney/blob/main/Result%20Analysis/Gloms%20missed.ipynb)\n",
    "\n",
    "\n",
    "### Approach 2 - Human Inspection on Overlayed Masks - \n",
    "\n",
    "1. Convert the ground truth json mask into 2D numpy array.\n",
    "2. Plot the numpy array of ground truth mask and save it.\n",
    "3. Similarly, convert the predicted rle into json format and then into 2D numpy array.\n",
    "4. Plot the numpy array of predicted mask and save it. \n",
    "5. Overlay groundtruth mask and predicted mask in photoshop and perform human inspection to find the number of gloms missed, predicted extra and wrongly predicted.\n",
    "\n",
    "This approach will give us accurate results, but is human supervised. This approach has been implemented for one pair of images, needs to be done for rest of the images. \n",
    "\n",
    "### Approach 3 - Find the common area between corresponding gloms - \n",
    "\n",
    "1. Each mask can be represented as a list of gloms, where each glom is represented by the list of coordinates that make the glom and each coordinate is represented by a (x,y) coordinate pair. Therefore, each mask is a 3D list of the following dimensions - ( number of gloms * number of coordinates in each glom * 2 ). We have 2 such lists, one for ground truth mask (gt mask) and predicted mask. \n",
    "2. To calculate the missed gloms, for each glom in the gt mask, find the corresponding mask in the predicted gloms.\n",
    "3. To find the corresponding masks, we can count the number of same coordinates in each glom, if it is above a certain threshold (say 80%), we will consider it a match.\n",
    "4. If such a glom is not found, add it to the missed gloms. *But if we find such a glom, should we take it out of the ground truth glom list? In case of overlapping gloms, two or more gt gloms may try to get matched with one predicted glom.* As per the discussions done earlier, we leave it in the list, even if 2 gloms match (to a certain degree) to one glom in predicted mask, we will not count them as missed.\n",
    "5. To calculate the gloms predicted that were not there in gt mask, repeat step 2,3,4 with roles of gt mask and predicted masks reversed.\n",
    "6. To calculate wrongly predicted gloms, the threshold for the match can be tweaked. \n",
    "\n",
    "This approach will likely give accurate results but is computation extensive (on GPU shouldnt be a problem though), the code for this is under development. \n",
    "\n",
    "### Approach 4 - Sliding window approach - \n",
    "\n",
    "1. Slide with a n * n window over both the ground truth mask and predicted mask. n should approximately be equal to the diameter of the gloms.\n",
    "2. If a glom is found in gt, try to find an overlap in predicted masks.\n",
    "3. If a glom is in gt but not in predicted, add it to extra predicted gloms, if a glom is in predicted not in gt, add it to missed gloms. \n",
    "\n",
    "This approach will be faster as compared to approach 3. \n"
   ]
  }
 ],
 "metadata": {
  "kernelspec": {
   "display_name": "Python 3",
   "language": "python",
   "name": "python3"
  },
  "language_info": {
   "codemirror_mode": {
    "name": "ipython",
    "version": 3
   },
   "file_extension": ".py",
   "mimetype": "text/x-python",
   "name": "python",
   "nbconvert_exporter": "python",
   "pygments_lexer": "ipython3",
   "version": "3.8.11"
  }
 },
 "nbformat": 4,
 "nbformat_minor": 5
}
