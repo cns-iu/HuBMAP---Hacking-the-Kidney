{
 "cells": [
  {
   "cell_type": "code",
   "execution_count": 64,
   "id": "b904e288",
   "metadata": {},
   "outputs": [],
   "source": [
    "import json\n",
    "import sys\n",
    "import os\n",
    "import csv\n",
    "import pandas as pd\n",
    "import numpy as np\n",
    "import matplotlib.pyplot as plt\n",
    "import PIL\n",
    "from PIL import Image as im\n",
    "import imageio\n",
    "from skimage import measure\n",
    "import copy"
   ]
  },
  {
   "cell_type": "code",
   "execution_count": 11,
   "id": "e2403a94",
   "metadata": {},
   "outputs": [],
   "source": [
    "# Read the ground truth json\n",
    "bp_gt = r\"C:\\Users\\soodn\\Downloads\\Naveksha\\Kaggle HuBMAP\\Data\\colon-data-reprocessed/\"\n",
    "bp_test = bp_gt + \"test/\"\n",
    "IMAGE_ID = \"CL_HandE_1234_B004_bottomleft\"\n",
    "\n",
    "json_gt = bp_test + IMAGE_ID+ \".json\"\n",
    "test_file = bp_gt + \"test.csv\"\n",
    "info_file = bp_gt + \"HuBMAP-20-dataset_information.csv\""
   ]
  },
  {
   "cell_type": "code",
   "execution_count": 27,
   "id": "6ecfc09a",
   "metadata": {},
   "outputs": [],
   "source": [
    "df_test = pd.read_csv(test_file, index_col = \"id\")\n",
    "df_info = pd.read_csv(info_file, index_col = \"image_file\") "
   ]
  },
  {
   "cell_type": "code",
   "execution_count": 70,
   "id": "d5c6ce42",
   "metadata": {},
   "outputs": [
    {
     "name": "stdout",
     "output_type": "stream",
     "text": [
      "Ground truth CL_HandE_1234_B004_bottomleft has 124 gloms\n"
     ]
    }
   ],
   "source": [
    "# Count the number of gloms in ground truth\n",
    "read_file = open(json_gt, \"r\")\n",
    "data = json.load(read_file)\n",
    "\n",
    "file_name = json_gt.split('\\\\')[-1]\n",
    "print(f'Ground truth {IMAGE_ID} has {len(data)} gloms.')"
   ]
  },
  {
   "cell_type": "code",
   "execution_count": 29,
   "id": "c5a299fc",
   "metadata": {},
   "outputs": [],
   "source": [
    "# Read the predicted rle file\n",
    "bp_pred = r\"C:\\Users\\soodn\\Downloads\\Naveksha\\Kaggle HuBMAP\\Scripts\\5. DeepFlash - Colon\"\n",
    "pred_file = bp_pred + \"/submission_colon_transfer.csv\""
   ]
  },
  {
   "cell_type": "code",
   "execution_count": 30,
   "id": "2cd223c1",
   "metadata": {},
   "outputs": [],
   "source": [
    "df_pred = pd.read_csv(pred_file)"
   ]
  },
  {
   "cell_type": "code",
   "execution_count": 31,
   "id": "00adc529",
   "metadata": {},
   "outputs": [],
   "source": [
    "def enc2mask(encs, shape):\n",
    "    img = np.zeros(shape[0] * shape[1], dtype=np.uint8)\n",
    "    for m, enc in enumerate(encs):\n",
    "        print (m, encs)\n",
    "        if isinstance(enc, np.float) and np.isnan(enc):\n",
    "            continue\n",
    "        enc_split = enc.split()\n",
    "        for i in range(len(enc_split) // 2):\n",
    "            start = int(enc_split[2 * i]) - 1\n",
    "            length = int(enc_split[2 * i + 1])\n",
    "            img[start: start + length] = 1 + m\n",
    "\n",
    "    return img.reshape(shape).T"
   ]
  },
  {
   "cell_type": "code",
   "execution_count": 32,
   "id": "48a709c6",
   "metadata": {},
   "outputs": [
    {
     "data": {
      "text/html": [
       "<div>\n",
       "<style scoped>\n",
       "    .dataframe tbody tr th:only-of-type {\n",
       "        vertical-align: middle;\n",
       "    }\n",
       "\n",
       "    .dataframe tbody tr th {\n",
       "        vertical-align: top;\n",
       "    }\n",
       "\n",
       "    .dataframe thead th {\n",
       "        text-align: right;\n",
       "    }\n",
       "</style>\n",
       "<table border=\"1\" class=\"dataframe\">\n",
       "  <thead>\n",
       "    <tr style=\"text-align: right;\">\n",
       "      <th></th>\n",
       "      <th>id</th>\n",
       "      <th>predicted</th>\n",
       "    </tr>\n",
       "  </thead>\n",
       "  <tbody>\n",
       "    <tr>\n",
       "      <th>0</th>\n",
       "      <td>CL_HandE_1234_B004_bottomleft</td>\n",
       "      <td>1113145 2 1117677 8 1122212 10 1126747 12 1131...</td>\n",
       "    </tr>\n",
       "    <tr>\n",
       "      <th>1</th>\n",
       "      <td>HandE_B005_CL_b_RGB_bottomleft</td>\n",
       "      <td>14224597 11 14229130 20 14233663 28 14238197 3...</td>\n",
       "    </tr>\n",
       "  </tbody>\n",
       "</table>\n",
       "</div>"
      ],
      "text/plain": [
       "                               id  \\\n",
       "0   CL_HandE_1234_B004_bottomleft   \n",
       "1  HandE_B005_CL_b_RGB_bottomleft   \n",
       "\n",
       "                                           predicted  \n",
       "0  1113145 2 1117677 8 1122212 10 1126747 12 1131...  \n",
       "1  14224597 11 14229130 20 14233663 28 14238197 3...  "
      ]
     },
     "execution_count": 32,
     "metadata": {},
     "output_type": "execute_result"
    }
   ],
   "source": [
    "df_pred"
   ]
  },
  {
   "cell_type": "code",
   "execution_count": 33,
   "id": "f7fbdf56",
   "metadata": {
    "scrolled": false
   },
   "outputs": [
    {
     "name": "stdout",
     "output_type": "stream",
     "text": [
      "0 0    1113145 2 1117677 8 1122212 10 1126747 12 1131...\n",
      "Name: predicted, dtype: object\n"
     ]
    },
    {
     "name": "stderr",
     "output_type": "stream",
     "text": [
      "<ipython-input-31-9d0a4c121cfb>:5: DeprecationWarning: `np.float` is a deprecated alias for the builtin `float`. To silence this warning, use `float` by itself. Doing this will not modify any behavior and is safe. If you specifically wanted the numpy scalar type, use `np.float64` here.\n",
      "Deprecated in NumPy 1.20; for more details and guidance: https://numpy.org/devdocs/release/1.20.0-notes.html#deprecations\n",
      "  if isinstance(enc, np.float) and np.isnan(enc):\n"
     ]
    }
   ],
   "source": [
    "# Convert rle to mask\n",
    "# shape = (47723,23990) # can read it from meta data csv \n",
    "shape = (df_info['width_pixels'][IMAGE_ID], df_info['height_pixels'][IMAGE_ID])\n",
    "pred_rle = df_pred[df_pred['id'] == IMAGE_ID][\"predicted\"]\n",
    "pred_mask = enc2mask(pred_rle, shape)"
   ]
  },
  {
   "cell_type": "code",
   "execution_count": 35,
   "id": "753e8cb4",
   "metadata": {},
   "outputs": [
    {
     "data": {
      "text/plain": [
       "<matplotlib.image.AxesImage at 0x2162b6ce0d0>"
      ]
     },
     "execution_count": 35,
     "metadata": {},
     "output_type": "execute_result"
    },
    {
     "data": {
      "image/png": "[encoded data removed]",
      "text/plain": [
       "<Figure size 432x288 with 1 Axes>"
      ]
     },
     "metadata": {
      "needs_background": "light"
     },
     "output_type": "display_data"
    }
   ],
   "source": [
    "plt.imshow(pred_mask)"
   ]
  },
  {
   "cell_type": "code",
   "execution_count": 44,
   "id": "72f49d69",
   "metadata": {},
   "outputs": [],
   "source": [
    "# Save the predicted mask as a png\n",
    "data = im.fromarray(pred_mask)\n",
    "MASK_PATH = 'mask_'+IMAGE_ID+'.png'\n",
    "data.save(MASK_PATH)"
   ]
  },
  {
   "cell_type": "code",
   "execution_count": 49,
   "id": "f79f6adb",
   "metadata": {
    "scrolled": true
   },
   "outputs": [
    {
     "name": "stdout",
     "output_type": "stream",
     "text": [
      "Image loaded\n"
     ]
    }
   ],
   "source": [
    "PIL.Image.MAX_IMAGE_PIXELS = 1144874770\n",
    "img = imageio.imread(MASK_PATH)\n",
    "print (\"Image loaded\")"
   ]
  },
  {
   "cell_type": "code",
   "execution_count": 52,
   "id": "5f512f67",
   "metadata": {},
   "outputs": [
    {
     "data": {
      "text/plain": [
       "<matplotlib.image.AxesImage at 0x2162ccde820>"
      ]
     },
     "execution_count": 52,
     "metadata": {},
     "output_type": "execute_result"
    },
    {
     "data": {
      "image/png": "[encoded data removed]",
      "text/plain": [
       "<Figure size 432x288 with 1 Axes>"
      ]
     },
     "metadata": {
      "needs_background": "light"
     },
     "output_type": "display_data"
    }
   ],
   "source": [
    "plt.imshow(img)"
   ]
  },
  {
   "cell_type": "code",
   "execution_count": 53,
   "id": "90491375",
   "metadata": {},
   "outputs": [],
   "source": [
    "if len(img.shape) == 2:\n",
    "    mask = img\n",
    "else:\n",
    "    mask = np.array(img[:, :, 0])\n",
    "mask = np.where(mask > 127, 1, 0)"
   ]
  },
  {
   "cell_type": "code",
   "execution_count": 56,
   "id": "9da315b4",
   "metadata": {},
   "outputs": [],
   "source": [
    "mask = img"
   ]
  },
  {
   "cell_type": "code",
   "execution_count": 67,
   "id": "e429d19c",
   "metadata": {},
   "outputs": [
    {
     "name": "stdout",
     "output_type": "stream",
     "text": [
      "123\n"
     ]
    }
   ],
   "source": [
    "contours = measure.find_contours(mask, 0.8)\n",
    "\n",
    "# contour to polygon\n",
    "polygons = []\n",
    "for object in contours:\n",
    "    coords = []\n",
    "    for point in object:\n",
    "        coords.append([int(point[0]), int(point[1])])\n",
    "    polygons.append(coords)\n",
    "\n",
    "# save as json\n",
    "geojson_dict_template = {\n",
    "    \"type\": \"Feature\",\n",
    "    \"id\": \"PathAnnotationObject\",\n",
    "    \"geometry\": {\n",
    "        \"type\": \"Polygon\",\n",
    "        \"coordinates\": [\n",
    "        ]\n",
    "    },\n",
    "    \"properties\": {\n",
    "        \"classification\": {\n",
    "            \"name\": \"glomerulus\",\n",
    "            \"colorRGB\": -3140401\n",
    "        },\n",
    "        \"isLocked\": True,\n",
    "        \"measurements\": []\n",
    "    }\n",
    "}\n",
    "geojson_list = []\n",
    "for polygon in polygons:\n",
    "    geojson_dict = copy.deepcopy(geojson_dict_template)\n",
    "    geojson_dict[\"geometry\"][\"coordinates\"].append(polygon)\n",
    "    geojson_list.append(geojson_dict)\n",
    "    \n",
    "# print (len(geojson_list))\n",
    "# json_path = MASK_PATH.replace('png', 'json')\n",
    "# with open(json_path, 'w') as fp:\n",
    "#     json.dump(geojson_list, fp, indent=2)\n",
    "\n",
    "# # polygon preview\n",
    "# new_img = np.zeros((mask.shape[0], mask.shape[1]))\n",
    "# for polygon in polygons:\n",
    "#     for point in polygon:\n",
    "#         new_img[int(point[0]), int(point[1])] = 1"
   ]
  },
  {
   "cell_type": "code",
   "execution_count": 72,
   "id": "33cf85d5",
   "metadata": {},
   "outputs": [
    {
     "name": "stdout",
     "output_type": "stream",
     "text": [
      "Pridicted CL_HandE_1234_B004_bottomleft has 123 gloms.\n"
     ]
    }
   ],
   "source": [
    "print(f'Pridicted {IMAGE_ID} has {len(geojson_list)} gloms.')"
   ]
  },
  {
   "cell_type": "code",
   "execution_count": 73,
   "id": "0ff02424",
   "metadata": {},
   "outputs": [],
   "source": [
    "missed = len(data) - len(geojson_list)"
   ]
  },
  {
   "cell_type": "code",
   "execution_count": 74,
   "id": "83b39991",
   "metadata": {},
   "outputs": [
    {
     "name": "stdout",
     "output_type": "stream",
     "text": [
      "The number of missed gloms in CL_HandE_1234_B004_bottomleft are 1.\n"
     ]
    }
   ],
   "source": [
    "print(f'The number of missed gloms in {IMAGE_ID} are {missed}.')"
   ]
  },
  {
   "cell_type": "code",
   "execution_count": null,
   "id": "eba8f0d5",
   "metadata": {},
   "outputs": [],
   "source": []
  }
 ],
 "metadata": {
  "kernelspec": {
   "display_name": "Python 3",
   "language": "python",
   "name": "python3"
  },
  "language_info": {
   "codemirror_mode": {
    "name": "ipython",
    "version": 3
   },
   "file_extension": ".py",
   "mimetype": "text/x-python",
   "name": "python",
   "nbconvert_exporter": "python",
   "pygments_lexer": "ipython3",
   "version": "3.8.11"
  }
 },
 "nbformat": 4,
 "nbformat_minor": 5
}
