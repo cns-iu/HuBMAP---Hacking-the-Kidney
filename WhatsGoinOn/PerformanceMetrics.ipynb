{
 "cells": [
  {
   "cell_type": "markdown",
   "id": "electric-diesel",
   "metadata": {},
   "source": [
    "# HubMap- Hacking the Kidney\n",
    "#### Goal - Mapping the human body at functional tissue unit level - detect glomeruli FTUs in kidney\n",
    "\n",
    "#### Calculating the performance metrics for Whats Goin On team's model\n",
    "\n",
    "##### Step 1 - Import useful libraries"
   ]
  },
  {
   "cell_type": "code",
   "execution_count": 25,
   "id": "distant-large",
   "metadata": {},
   "outputs": [],
   "source": [
    "import numpy as np\n",
    "import pandas as pd\n",
    "from sklearn.metrics import jaccard_score\n",
    "from scipy.spatial.distance import directed_hausdorff"
   ]
  },
  {
   "cell_type": "code",
   "execution_count": 139,
   "id": "loved-thompson",
   "metadata": {},
   "outputs": [],
   "source": [
    "DATA_PATH = r'C:/Users/soodn/Downloads/Naveksha/Kaggle HuBMAP/'\n",
    "# Read rle prediction table (submission.csv) as df\n",
    "df = pd.read_csv('submission-wgo.csv')\n",
    "# Read ground truth rles as rles\n",
    "rles = pd.read_csv(DATA_PATH + 'Data/hubmap-kidney-segmentation-data/test.csv')\n",
    "# Read information dataframe for input height and width\n",
    "df_info = pd.read_csv(DATA_PATH + 'Data/hubmap-kidney-segmentation-data/HuBMAP-20-dataset_information.csv')"
   ]
  },
  {
   "cell_type": "code",
   "execution_count": 140,
   "id": "indirect-anaheim",
   "metadata": {},
   "outputs": [],
   "source": [
    "path_test = r'C:\\Users\\soodn\\Downloads\\Naveksha\\Kaggle HuBMAP\\Data\\hubmap-kidney-segmentation-data\\test'"
   ]
  },
  {
   "cell_type": "markdown",
   "id": "developed-sheriff",
   "metadata": {},
   "source": [
    "##### Step 2 - Write utility functions"
   ]
  },
  {
   "cell_type": "code",
   "execution_count": 141,
   "id": "dated-growing",
   "metadata": {},
   "outputs": [],
   "source": [
    "def dice_scores_img(pred, truth, eps=1e-8):\n",
    "    pred = pred.reshape(-1) > 0\n",
    "    truth = truth.reshape(-1) > 0\n",
    "    intersect = (pred & truth).sum(-1)\n",
    "    union = pred.sum(-1) + truth.sum(-1)\n",
    "\n",
    "    dice = (2.0 * intersect + eps) / (union + eps)\n",
    "    return dice"
   ]
  },
  {
   "cell_type": "code",
   "execution_count": 142,
   "id": "military-stable",
   "metadata": {},
   "outputs": [],
   "source": [
    "def perf_metrics(gt, pred):\n",
    "    n = 0\n",
    "    d = 0\n",
    "    print (gt.shape)\n",
    "    for i in range(gt.shape[0]):\n",
    "        for j in range (gt.shape[1]):\n",
    "            if (gt[i][j]==pred[i][j]):\n",
    "                n = n+1\n",
    "            d = d+1\n",
    "    \n",
    "    return n/d, jaccard_score(gt.flatten(order='C'), pred.flatten(order='C')), directed_hausdorff(gt, pred)"
   ]
  },
  {
   "cell_type": "code",
   "execution_count": 143,
   "id": "alive-japan",
   "metadata": {},
   "outputs": [],
   "source": [
    "def rle_encode_less_memory(img):\n",
    "    pixels = img.T.flatten()\n",
    "    pixels[0] = 0\n",
    "    pixels[-1] = 0\n",
    "    runs = np.where(pixels[1:] != pixels[:-1])[0] + 2\n",
    "    runs[1::2] -= runs[::2]\n",
    "    return ' '.join(str(x) for x in runs)\n",
    "\n",
    "def enc2mask(encs, shape):\n",
    "    img = np.zeros(shape[0] * shape[1], dtype=np.uint8)\n",
    "    for m, enc in enumerate(encs):\n",
    "        if isinstance(enc, np.float) and np.isnan(enc):\n",
    "            continue\n",
    "        enc_split = enc.split()\n",
    "        for i in range(len(enc_split) // 2):\n",
    "            start = int(enc_split[2 * i]) - 1\n",
    "            length = int(enc_split[2 * i + 1])\n",
    "            img[start: start + length] = 1 + m\n",
    "\n",
    "    return img.reshape(shape).T"
   ]
  },
  {
   "cell_type": "code",
   "execution_count": 144,
   "id": "naked-grill",
   "metadata": {},
   "outputs": [],
   "source": [
    "def read_mask(mask_file, mask_shape):\n",
    "    read_file = open(mask_file, \"r\", encoding='utf-8') \n",
    "    mask_data = json.load(read_file)\n",
    "    polys = []\n",
    "    for index in range(mask_data.__len__()):\n",
    "        geom = np.array(mask_data[index]['geometry']['coordinates'], dtype=np.int32)\n",
    "        polys.append(geom)\n",
    "\n",
    "    mask = np.zeros(mask_shape)\n",
    "    cv2.fillPoly(mask, polys, 1)\n",
    "    mask = mask.astype(bool)\n",
    "    return mask"
   ]
  },
  {
   "cell_type": "markdown",
   "id": "arabic-nowhere",
   "metadata": {},
   "source": [
    "##### Step 3 - Calculate mean metrics values for test images "
   ]
  },
  {
   "cell_type": "code",
   "execution_count": 145,
   "id": "mechanical-display",
   "metadata": {},
   "outputs": [
    {
     "name": "stdout",
     "output_type": "stream",
     "text": [
      "(23990, 47723)\n",
      "(23990, 47723)\n",
      "0.9580039353669705\n",
      "(23990, 47723)\n",
      "0.9580039353669705 0.9983417085870449 0.9193930456007631 (23.83275057562597, 8728, 8727)\n",
      "(29433, 22165)\n",
      "(29433, 22165)\n",
      "0.955085846032236\n",
      "(29433, 22165)\n",
      "0.955085846032236 0.9981929342074801 0.9140328345688202 (18.384776310850235, 19410, 19303)\n",
      "(46660, 29020)\n",
      "(46660, 29020)\n",
      "0.819578336717979\n",
      "(46660, 29020)\n",
      "0.819578336717979 0.9965501961046124 0.6943098065815223 (19.209372712298546, 29105, 29097)\n",
      "(30720, 47340)\n",
      "(30720, 47340)\n",
      "0.9182899780078206\n",
      "(30720, 47340)\n",
      "0.9182899780078206 0.9959388834979228 0.8489243506467761 (31.52776554086889, 16439, 16440)\n",
      "(33240, 43160)\n",
      "(33240, 43160)\n",
      "0.9393646221942409\n",
      "(33240, 43160)\n",
      "0.9393646221942409 0.9988324347096802 0.8856621623706319 (23.259406699226016, 21563, 21564)\n"
     ]
    }
   ],
   "source": [
    "import json\n",
    "import cv2\n",
    "import matplotlib.pyplot as plt\n",
    "from PIL import Image\n",
    "sum_score = 0\n",
    "sum_pa = 0\n",
    "sum_ji = 0\n",
    "sum_haus = 0\n",
    "\n",
    "for img in rles['id'].unique():\n",
    "    shape = df_info[df_info.image_file == img + \".tiff\"][['width_pixels', 'height_pixels']].values.astype(int)[0]\n",
    "    truth = rles[rles['id'] == img]['encoding']\n",
    "    mask_truth = enc2mask(truth, shape)\n",
    "    print (mask_truth.shape)\n",
    "    pred = df[df['id'] == img]['predicted']\n",
    "    mask_pred = enc2mask(pred, shape)  \n",
    "    print (mask_pred.shape)\n",
    "\n",
    "    score = dice_scores_img(mask_pred, mask_truth)\n",
    "    print (score)\n",
    "    pa, ji, haus = perf_metrics(mask_pred, mask_truth)\n",
    "    print (score,pa,ji,haus)\n",
    "    \n",
    "    sum_score += score\n",
    "    sum_pa += pa\n",
    "    sum_ji += ji\n",
    "    sum_haus += haus[0]"
   ]
  },
  {
   "cell_type": "code",
   "execution_count": 146,
   "id": "material-summit",
   "metadata": {},
   "outputs": [
    {
     "name": "stdout",
     "output_type": "stream",
     "text": [
      "0.9180645436638495 0.997571231421348 0.8524644399537026 23.242814367773935\n"
     ]
    }
   ],
   "source": [
    "# To find mean, divide by number of test images\n",
    "print (sum_score/5, sum_pa/5, sum_ji/5, sum_haus/5)"
   ]
  },
  {
   "cell_type": "code",
   "execution_count": null,
   "id": "homeless-knitting",
   "metadata": {},
   "outputs": [],
   "source": []
  }
 ],
 "metadata": {
  "kernelspec": {
   "display_name": "Python 3",
   "language": "python",
   "name": "python3"
  },
  "language_info": {
   "codemirror_mode": {
    "name": "ipython",
    "version": 3
   },
   "file_extension": ".py",
   "mimetype": "text/x-python",
   "name": "python",
   "nbconvert_exporter": "python",
   "pygments_lexer": "ipython3",
   "version": "3.8.8"
  }
 },
 "nbformat": 4,
 "nbformat_minor": 5
}
