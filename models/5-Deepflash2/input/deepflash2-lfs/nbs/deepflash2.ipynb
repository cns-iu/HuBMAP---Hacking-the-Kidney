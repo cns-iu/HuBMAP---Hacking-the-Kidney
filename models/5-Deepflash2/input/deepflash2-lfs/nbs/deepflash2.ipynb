{
 "cells": [
  {
   "cell_type": "markdown",
   "metadata": {
    "id": "OcsetTMwKXqC"
   },
   "source": [
    "# deepflash2\n",
    "\n",
    "> A deep learning pipeline for segmentation of fluorescent labels in microscopy images.\n",
    "\n",
    "**Watch the [deepflash2 tutorials](https://matjesg.github.io/deepflash2/tutorial.html) and read the [deepflash2 docs](https://matjesg.github.io/deepflash2/)**.\n",
    "\n",
    "If you're working on [Google Colab](https://colab.research.google.com):\n",
    "- Use Google Chrome or Firefox for full functionality\n",
    "- Connect to your [Google Drive](https://drive.google.com/drive/my-drive) (recommended).\n"
   ]
  },
  {
   "cell_type": "code",
   "execution_count": null,
   "metadata": {
    "cellView": "form",
    "id": "ovLQvrybRfBd"
   },
   "outputs": [],
   "source": [
    "#@title Set up environment\n",
    "#@markdown Please run this cell to get started.\n",
    "try:\n",
    "    import deepflash2\n",
    "except ImportError:\n",
    "    !pip install -Uqq deepflash2\n",
    "from deepflash2.gui import GUI, _connect_to_drive\n",
    "%xmode Plain\n",
    "path=_connect_to_drive()"
   ]
  },
  {
   "cell_type": "code",
   "execution_count": null,
   "metadata": {
    "cellView": "form",
    "id": "RjczlpgnRfBf"
   },
   "outputs": [],
   "source": [
    "#@title deepflash2 UI\n",
    "#@markdown Start UI. If something goes wrong, click\n",
    "#@markdown Click \"Runtime\" -> \"Factory Reset Runtime\" (on Colab) or \n",
    "#@markdown \"Kernel\" -> \"Restart Kernel\" (Jupyter) and start over!\n",
    "t = GUI(path);"
   ]
  },
  {
   "cell_type": "code",
   "execution_count": null,
   "metadata": {
    "cellView": "form",
    "id": "fLRtUEHraPMA"
   },
   "outputs": [],
   "source": [
    "#@markdown  On [Google Colab](https://colab.research.google.com): Run this cell during training/prediction to avoid a disconnect. Stop execution to continue.\n",
    "try: \n",
    "  while True: pass\n",
    "except: \n",
    "  pass"
   ]
  }
 ],
 "metadata": {
  "accelerator": "GPU",
  "colab": {
   "collapsed_sections": [],
   "name": "deepflash2.ipynb",
   "provenance": [],
   "toc_visible": true
  },
  "kernelspec": {
   "display_name": "fastai",
   "language": "python",
   "name": "fastai"
  }
 },
 "nbformat": 4,
 "nbformat_minor": 4
}
