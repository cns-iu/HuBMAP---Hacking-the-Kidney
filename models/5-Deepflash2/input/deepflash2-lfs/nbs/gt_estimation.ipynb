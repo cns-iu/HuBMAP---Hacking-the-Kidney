{
 "cells": [
  {
   "cell_type": "markdown",
   "metadata": {},
   "source": [
    "# Ground Truth Estimation (Legacy Version)\n",
    "\n",
    "> Notebook to derive reference segmentations from segmentations of multiple experts. This notebook is based on [SimpleITK](http://insightsoftwareconsortium.github.io/SimpleITK-Notebooks/Python_html/34_Segmentation_Evaluation.html)."
   ]
  },
  {
   "cell_type": "markdown",
   "metadata": {},
   "source": [
    "This notebook is optmizied to be executed on [Google Colab](https://colab.research.google.com).\n",
    "\n",
    "* Press the the *play* butten to execute the cells. It will show up between \\[     \\] on the left side of the code cells. \n",
    "* Run the cells consecutively. Skip cells that do not apply for your case.\n",
    "* Use Firefox or Google Chrome if you want to upload and download files\n",
    "\n",
    "For more information on ground truth estimation methods see _Biancardi, Alberto M., Artit C. Jirapatnakul, and Anthony P. Reeves. \"A comparison of ground truth estimation methods.\" International journal of computer assisted radiology and surgery 5.3 (2010): 295-305_."
   ]
  },
  {
   "cell_type": "code",
   "execution_count": null,
   "metadata": {
    "cellView": "form",
    "colab_type": "code"
   },
   "outputs": [],
   "source": [
    "#@title Set up Google Colab environment\n",
    "#@markdown Please run this cell to get started.\n",
    "try:\n",
    "    from google.colab import files, drive\n",
    "except ImportError:\n",
    "    pass\n",
    "try:\n",
    "    import deepflash2\n",
    "except ImportError:\n",
    "    !pip install -q deepflash2==0.0.14\n",
    "try:\n",
    "    import SimpleITK\n",
    "    assert SimpleITK.Version_MajorVersion()==1\n",
    "except:\n",
    "    !pip install -q SimpleITK==1.2.4\n",
    "import zipfile\n",
    "import imageio\n",
    "import SimpleITK as sitk\n",
    "from fastai.vision.all import *\n",
    "from deepflash2.data import _read_msk\n",
    "from deepflash2.utils import unzip\n",
    "\n",
    "def staple(segmentations, foregroundValue = 1, threshold = 0.5):\n",
    "    'STAPLE: Simultaneous Truth and Performance Level Estimation with simple ITK'\n",
    "    segmentations = [sitk.GetImageFromArray(x) for x in segmentations]\n",
    "    STAPLE_probabilities = sitk.STAPLE(segmentations)\n",
    "    STAPLE = STAPLE_probabilities > threshold\n",
    "    return sitk.GetArrayViewFromImage(STAPLE)\n",
    "\n",
    "def mvoting(segmentations, labelForUndecidedPixels = 0):\n",
    "    'Majority Voting from  simple ITK Label Voting'\n",
    "    segmentations = [sitk.GetImageFromArray(x) for x in segmentations]\n",
    "    mv_segmentation = sitk.LabelVoting(segmentations, labelForUndecidedPixels)\n",
    "    return sitk.GetArrayViewFromImage(mv_segmentation)"
   ]
  },
  {
   "cell_type": "markdown",
   "metadata": {},
   "source": [
    "## Provide Reference Segmentations from different experts"
   ]
  },
  {
   "cell_type": "markdown",
   "metadata": {},
   "source": [
    "- __One folder per expert__\n",
    "- __Identical names for segmentations__\n",
    "\n",
    "_Examplary structure:_\n",
    "\n",
    "* [folder] expert1\n",
    "  * [file] mask1.png\n",
    "  * [file] mask2.png\n",
    "* [folder] expert1\n",
    "  * [file] mask1.png\n",
    "  * [file] mask2.png"
   ]
  },
  {
   "cell_type": "markdown",
   "metadata": {},
   "source": [
    "### Option A: Upload via _Google Drive_ (Colab only)"
   ]
  },
  {
   "cell_type": "markdown",
   "metadata": {},
   "source": [
    "- The folder in your drive must contain all segmentations and correct folder structure. \n",
    "- See [here](https://support.google.com/drive/answer/2375091?co=GENIE.Platform%3DDesktop&hl=en) how to organize your files in _Google Drive_.\n",
    "- See this [stackoverflow post](https://stackoverflow.com/questions/46986398/import-data-into-google-colaboratory) for browsing files with the file browser"
   ]
  },
  {
   "cell_type": "code",
   "execution_count": null,
   "metadata": {
    "cellView": "form",
    "colab_type": "code"
   },
   "outputs": [],
   "source": [
    "#@markdown Provide the path to the folder on your _Google Drive_\n",
    "try:\n",
    "    drive.mount('/content/drive')\n",
    "    path = \"/content/drive/My Drive/expert_segmentations\" #@param {type:\"string\"}\n",
    "    path = Path(path)\n",
    "    #@markdown Example: \"/content/drive/My Drive/expert_segmentations\"\n",
    "    print('Path contains the following files and folders: \\n', L(os.listdir(path)))\n",
    "except:\n",
    "    print(\"Warning: Connecting to Google Drive only works on Google Colab.\")\n",
    "    pass"
   ]
  },
  {
   "cell_type": "markdown",
   "metadata": {},
   "source": [
    "### Option B: Upload via _zip_ file (Colab only)"
   ]
  },
  {
   "cell_type": "markdown",
   "metadata": {},
   "source": [
    "- The *zip* file must contain all segmentations and correct folder structure. \n",
    "- See [here](https://www.hellotech.com/guide/for/how-to-zip-a-file-mac-windows-pc) how to _zip_ files on Windows or Mac."
   ]
  },
  {
   "cell_type": "code",
   "execution_count": null,
   "metadata": {
    "cellView": "form",
    "colab_type": "code"
   },
   "outputs": [],
   "source": [
    "#@markdown Run to upload a *zip* file\n",
    "path = Path('expert_segmentations')\n",
    "try:\n",
    "    u_dict = files.upload()\n",
    "    for key in u_dict.keys():\n",
    "        unzip(path, key)\n",
    "    print('Path contains the following files and folders: \\n', L(os.listdir(path)))\n",
    "except:\n",
    "    print(\"Warning: File upload only works on Google Colab.\")\n",
    "    pass"
   ]
  },
  {
   "cell_type": "markdown",
   "metadata": {},
   "source": [
    "### Option C: Provide path (Local installation)"
   ]
  },
  {
   "cell_type": "markdown",
   "metadata": {},
   "source": [
    "If you're working on your local machine or server, provide a path to the correct folder."
   ]
  },
  {
   "cell_type": "code",
   "execution_count": null,
   "metadata": {
    "cellView": "form",
    "colab_type": "code"
   },
   "outputs": [],
   "source": [
    "#@markdown Provide path (either relative to notebook or absolute) and run cell\n",
    "path = \"expert_segmentations\" #@param {type:\"string\"}\n",
    "path = Path(path)\n",
    "print('Path contains the following files and folders: \\n', L(os.listdir(path)))\n",
    "#@markdown Example: \"expert_segmentations\""
   ]
  },
  {
   "cell_type": "markdown",
   "metadata": {},
   "source": [
    "###  Option D: Try with sample data (Testing only)"
   ]
  },
  {
   "cell_type": "markdown",
   "metadata": {},
   "source": [
    "If you don't have any data available yet, try our sample data"
   ]
  },
  {
   "cell_type": "code",
   "execution_count": null,
   "metadata": {
    "cellView": "form",
    "colab_type": "code"
   },
   "outputs": [],
   "source": [
    "#@markdown Run to download sample files\n",
    "path = Path('expert_segmentations')\n",
    "url = \"https://github.com/matjesg/bioimage_analysis/raw/master/train_data/lab-wue1/labels/\"\n",
    "experts = ['expert_'+str(e) for e in range(1,6)]\n",
    "for e in  experts:   \n",
    "    (path/e).mkdir(exist_ok=True, parents=True)\n",
    "    urllib.request.urlretrieve(f'{url}/{e}/0001_cFOS.png', path/e/'mask_1.png');"
   ]
  },
  {
   "cell_type": "markdown",
   "metadata": {},
   "source": [
    "## Load data"
   ]
  },
  {
   "cell_type": "code",
   "execution_count": null,
   "metadata": {
    "cellView": "form",
    "colab_type": "code"
   },
   "outputs": [],
   "source": [
    "#@markdown Load data\n",
    "masks = get_image_files(path)\n",
    "experts = set([m.parent.name for m in masks])\n",
    "print(f'You have uploaded {len(masks)} files from the following experts: {experts}')"
   ]
  },
  {
   "cell_type": "markdown",
   "metadata": {},
   "source": [
    "## Ground Truth Estimation"
   ]
  },
  {
   "cell_type": "markdown",
   "metadata": {},
   "source": [
    "### Recommended: Simultaneous truth and performance level estimation (STAPLE) \n",
    "\n",
    "The STAPLE algorithm considers a collection of segmentations and computes a probabilistic estimate of the true segmentation and a measure of the performance level represented by each segmentation. \n",
    "\n",
    "_Source: Warfield, Simon K., Kelly H. Zou, and William M. Wells. \"Simultaneous truth and performance level estimation (STAPLE): an algorithm for the validation of image segmentation.\" IEEE transactions on medical imaging 23.7 (2004): 903-921_"
   ]
  },
  {
   "cell_type": "code",
   "execution_count": null,
   "metadata": {
    "cellView": "form",
    "colab_type": "code"
   },
   "outputs": [],
   "source": [
    "#@markdown Run STAPLE\n",
    "path_staple = path/'staple'\n",
    "path_staple.mkdir(exist_ok=True)\n",
    "unique_masks = set([m.name for m in masks])\n",
    "for msk_name in progress_bar(unique_masks):\n",
    "    print('Processing', msk_name)\n",
    "    segmentations = [_read_msk(m) for m in masks if m.name==msk_name]\n",
    "    staple_segmentation = staple(segmentations)\n",
    "    out_mask = staple_segmentation*255 if staple_segmentation.max()==1 else staple_segmentation\n",
    "    imageio.imsave(path_staple/msk_name, out_mask)"
   ]
  },
  {
   "cell_type": "markdown",
   "metadata": {},
   "source": [
    "If connected to _Google Drive_, the ground truth estimations are automatically added to your drive. You can also download the files here:"
   ]
  },
  {
   "cell_type": "code",
   "execution_count": null,
   "metadata": {
    "cellView": "form",
    "colab_type": "code"
   },
   "outputs": [],
   "source": [
    "#@markdown Download STAPLE results\n",
    "zipObj = zipfile.ZipFile('staple_export.zip', 'w')\n",
    "for f in get_image_files(path_staple):\n",
    "    zipObj.write(f)\n",
    "zipObj.close()\n",
    "try:\n",
    "    files.download('staple_export.zip')\n",
    "except:\n",
    "    print(\"Warning: File download only works on Google Colab.\")\n",
    "    pass"
   ]
  },
  {
   "cell_type": "markdown",
   "metadata": {},
   "source": [
    "### Alternative: Majority Voting\n",
    "Use majority voting to obtain the reference segmentation. Note that this filter does not resolve ties. In case of ties it will assign `labelForUndecidedPixels` to the result. "
   ]
  },
  {
   "cell_type": "code",
   "execution_count": null,
   "metadata": {
    "cellView": "form",
    "colab_type": "code"
   },
   "outputs": [],
   "source": [
    "#@markdown Run Majority Voting\n",
    "labelForUndecidedPixels = 0 #@param {type:\"integer\"}\n",
    "path_mv = path/'mv'\n",
    "path_mv.mkdir(exist_ok=True)\n",
    "unique_masks = set([m.name for m in masks])\n",
    "for msk_name in progress_bar(unique_masks):\n",
    "    print('Processing', msk_name)\n",
    "    segmentations = [_read_msk(m) for m in masks if m.name==msk_name]\n",
    "    mv_segmentation = mvoting(segmentations, labelForUndecidedPixels)\n",
    "    imageio.imsave(path_mv/msk_name, mv_segmentation*255 if mv_segmentation.max()==1 else mv_segmentation)"
   ]
  },
  {
   "cell_type": "markdown",
   "metadata": {},
   "source": [
    "If connected to _Google Drive_, the ground truth estimations are automatically added to your drive. You can also download the files here:"
   ]
  },
  {
   "cell_type": "code",
   "execution_count": null,
   "metadata": {
    "cellView": "form",
    "colab_type": "code"
   },
   "outputs": [],
   "source": [
    "#@markdown Download majority voting results\n",
    "zipObj = zipfile.ZipFile('mv_export.zip', 'w')\n",
    "for f in get_image_files(path_mv):\n",
    "      zipObj.write(f)\n",
    "zipObj.close()\n",
    "try:\n",
    "    files.download('mv_export.zip')\n",
    "except:\n",
    "    print(\"Warning: File download only works on Google Colab.\")\n",
    "    pass"
   ]
  }
 ],
 "metadata": {
  "kernelspec": {
   "display_name": "fastai",
   "language": "python",
   "name": "fastai"
  }
 },
 "nbformat": 4,
 "nbformat_minor": 4
}
