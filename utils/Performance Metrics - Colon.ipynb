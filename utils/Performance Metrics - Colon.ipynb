{
 "cells": [
  {
   "cell_type": "markdown",
   "id": "258f3ff5",
   "metadata": {},
   "source": [
    "<h1> HubMap - Hacking the Kidney </h1>\n",
    "<h3> Goal - Mapping the human body at function tissue unit level - detect glomeruli FTUs in kidney </h3>\n",
    "\n",
    "Description - Calculate the performance metrics for test data predictions of colon data. <br>\n",
    "Input - submission.csv (csv file containing rle format predicted mask), test.csv (csv file containing rle format original mask).<br>\n",
    "Output - Performance metrics values - dice coeff, Jaccard index, pixel accuracy, hausdorff distance. <br>\n",
    "\n",
    "<b>How to use?</b><br> \n",
    "Change the basepath to where your data lives and you're good to go. <br>\n",
    "\n",
    "<b>How to reproduce on a different dataset?</b><br>\n",
    "Create a train and test folders of the dataset containing train images and masks and test images and masks respectively. Have a train.csv with the rle for train images and a sample-submission file with test image names. Create a test.csv with rle for test images and predicted csv from the trained network. \n",
    "\n",
    "<hr>\n",
    "\n",
    "\n",
    "<h6> Step 1 - Import useful libraries</h6>"
   ]
  },
  {
   "cell_type": "code",
   "execution_count": 3,
   "id": "2aee4cb1",
   "metadata": {},
   "outputs": [],
   "source": [
    "import numpy as np\n",
    "import pandas as pd\n",
    "from pathlib import Path\n",
    "\n",
    "from sklearn.metrics import jaccard_score\n",
    "from scipy.spatial.distance import directed_hausdorff"
   ]
  },
  {
   "cell_type": "markdown",
   "id": "1739b20c",
   "metadata": {},
   "source": [
    "<h6> Step 2 - Write utility functions </h6> "
   ]
  },
  {
   "cell_type": "code",
   "execution_count": 4,
   "id": "46d54a2a",
   "metadata": {},
   "outputs": [],
   "source": [
    "def enc2mask(encs, shape):\n",
    "    img = np.zeros(shape[0] * shape[1], dtype=np.uint8)\n",
    "    for m, enc in enumerate(encs):\n",
    "        if isinstance(enc, np.float) and np.isnan(enc):\n",
    "            continue\n",
    "        enc_split = enc.split()\n",
    "        for i in range(len(enc_split) // 2):\n",
    "            start = int(enc_split[2 * i]) - 1\n",
    "            length = int(enc_split[2 * i + 1])\n",
    "            img[start: start + length] = 1 + m\n",
    "\n",
    "    return img.reshape(shape).T"
   ]
  },
  {
   "cell_type": "code",
   "execution_count": 5,
   "id": "49edf634",
   "metadata": {},
   "outputs": [],
   "source": [
    "def dice_scores_img(pred, truth, eps=1e-8):\n",
    "    pred = pred.reshape(-1) > 0\n",
    "    truth = truth.reshape(-1) > 0\n",
    "    intersect = (pred & truth).sum(-1)\n",
    "    union = pred.sum(-1) + truth.sum(-1)\n",
    "\n",
    "    dice = (2.0 * intersect + eps) / (union + eps)\n",
    "    return dice"
   ]
  },
  {
   "cell_type": "code",
   "execution_count": 6,
   "id": "6a14bf6b",
   "metadata": {},
   "outputs": [],
   "source": [
    "def perf_metrics(gt, pred):\n",
    "    n = 0\n",
    "    d = 0\n",
    "    for i in range(gt.shape[0]):\n",
    "        for j in range (gt.shape[1]):\n",
    "            if (gt[i][j]==pred[i][j]):\n",
    "                n = n+1\n",
    "            d = d+1\n",
    "    \n",
    "    return n/d, jaccard_score(gt.flatten(order='C'), pred.flatten(order='C')), directed_hausdorff(gt, pred)"
   ]
  },
  {
   "cell_type": "markdown",
   "id": "5cd7d96d",
   "metadata": {},
   "source": [
    "<h6> Step 3 - Calculate mean metrics values for test images </h6> "
   ]
  },
  {
   "cell_type": "code",
   "execution_count": 13,
   "id": "e7d3ac56",
   "metadata": {},
   "outputs": [],
   "source": [
    "DATA_PATH = Path(r'C:/Users/soodn/Downloads/Naveksha/Kaggle HuBMAP/')\n",
    "df_pred = pd.read_csv('submission-deeplive.csv')\n",
    "df_truth = pd.read_csv(DATA_PATH/'Data/colon-data-reprocessed/test.csv')\n",
    "df_info = pd.read_csv(DATA_PATH/'Data/colon-data-reprocessed/HuBMAP-20-dataset_information.csv')"
   ]
  },
  {
   "cell_type": "code",
   "execution_count": 18,
   "id": "3912634d",
   "metadata": {},
   "outputs": [],
   "source": [
    "scores = []\n",
    "pa_list = []\n",
    "ji_list = []\n",
    "haus_dis_list = []\n",
    "\n",
    "for img in rles['id'].unique():\n",
    "    shape = df_info[df_info.image_file == img + \".tiff\"][['width_pixels', 'height_pixels']].values.astype(int)[0]\n",
    "    truth = df_truth[df_truth['id'] == img]['encoding']\n",
    "    mask_truth = enc2mask(truth, shape)\n",
    "    pred = df_pred[df_pred['id'] == img]['predicted']\n",
    "    mask_pred = enc2mask(pred, shape)\n",
    "    score = dice_scores_img(mask_pred, mask_truth)\n",
    "    print (score)\n",
    "#     pa, ji, haus = perf_metrics(mask_pred, mask_truth)    \n",
    "#     pa_list.append (pa)\n",
    "#     ji_list.append(ji)\n",
    "#     haus_dis_list.append(haus[0])\n",
    "    scores.append(score)"
   ]
  },
  {
   "cell_type": "code",
   "execution_count": null,
   "id": "f667b046",
   "metadata": {},
   "outputs": [],
   "source": [
    "l = len(df)\n",
    "for img, s in zip(rles[5:]['id'],scores):\n",
    "    print (round(s, 3))\n",
    "    \n",
    "print (\"Average Dice Score = \", round(sum(scores)/l,3))"
   ]
  }
 ],
 "metadata": {
  "kernelspec": {
   "display_name": "Python 3",
   "language": "python",
   "name": "python3"
  },
  "language_info": {
   "codemirror_mode": {
    "name": "ipython",
    "version": 3
   },
   "file_extension": ".py",
   "mimetype": "text/x-python",
   "name": "python",
   "nbconvert_exporter": "python",
   "pygments_lexer": "ipython3",
   "version": "3.8.11"
  }
 },
 "nbformat": 4,
 "nbformat_minor": 5
}
